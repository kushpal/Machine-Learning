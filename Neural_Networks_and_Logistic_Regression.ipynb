{
  "nbformat": 4,
  "nbformat_minor": 0,
  "metadata": {
    "kernelspec": {
      "display_name": "Python 2",
      "language": "python",
      "name": "python2"
    },
    "language_info": {
      "codemirror_mode": {
        "name": "ipython",
        "version": 3
      },
      "file_extension": ".py",
      "mimetype": "text/x-python",
      "name": "python",
      "nbconvert_exporter": "python",
      "pygments_lexer": "ipython3",
      "version": "3.6.7"
    },
    "colab": {
      "name": "Neural_Networks_and_Logistic_Regression",
      "provenance": [],
      "include_colab_link": true
    }
  },
  "cells": [
    {
      "cell_type": "markdown",
      "metadata": {
        "id": "view-in-github",
        "colab_type": "text"
      },
      "source": [
        "<a href=\"https://colab.research.google.com/github/kushpal/Machine-Learning/blob/master/Neural_Networks_and_Logistic_Regression.ipynb\" target=\"_parent\"><img src=\"https://colab.research.google.com/assets/colab-badge.svg\" alt=\"Open In Colab\"/></a>"
      ]
    },
    {
      "cell_type": "markdown",
      "metadata": {
        "id": "g5m5ZsLqhzW_",
        "colab_type": "text"
      },
      "source": [
        "---\n",
        "**Logistic Regression**\n",
        "\n",
        "---"
      ]
    },
    {
      "cell_type": "markdown",
      "metadata": {
        "id": "Lh_JLZqmiO_0",
        "colab_type": "text"
      },
      "source": [
        "---\n",
        "\n",
        ">**(i)** Implement a function for binary logistic regression using gradient descent\n",
        "\n",
        "---"
      ]
    },
    {
      "cell_type": "code",
      "metadata": {
        "id": "hFeUZLDehzXB",
        "colab_type": "code",
        "colab": {}
      },
      "source": [
        "import matplotlib.pyplot as plt\n",
        "import numpy as np\n",
        "import pandas as pd"
      ],
      "execution_count": 0,
      "outputs": []
    },
    {
      "cell_type": "code",
      "metadata": {
        "id": "ytBssgithzXH",
        "colab_type": "code",
        "colab": {}
      },
      "source": [
        "def Logistic_regression_GD(X,y,alpha=0.1):\n",
        "    intercept = np.ones((X.shape[0], 1))\n",
        "    X=np.concatenate((intercept, X), axis=1)\n",
        "    X=np.array(X)\n",
        "    theta = np.random.rand(X.shape[1])\n",
        "    m = y.size\n",
        "    for i in range(200):\n",
        "        prediction=sigmoid(X,theta)\n",
        "        loss =np.dot(X.T, (prediction - y))/m\n",
        "        theta = theta - (alpha * loss)\n",
        "    h = sigmoid(X,theta)\n",
        "    print(f'loss: {loss_f(h, y)} \\t')\n",
        "    return theta"
      ],
      "execution_count": 0,
      "outputs": []
    },
    {
      "cell_type": "code",
      "metadata": {
        "id": "XUvJlefRhzXM",
        "colab_type": "code",
        "colab": {}
      },
      "source": [
        "def loss_f(h, y):\n",
        "        return (-y * np.log(h) - (1 - y) * np.log(1 - h)).mean()\n",
        "def predict_probs(X, theta):\n",
        "    return sigmoid(X, theta)\n",
        "\n",
        "def predict(X, theta, threshold=0.5):\n",
        "    intercept = np.ones((X.shape[0], 1))\n",
        "    X=np.concatenate((intercept, X), axis=1)\n",
        "    return predict_probs(X, theta) >= threshold\n",
        "\n",
        "def sigmoid(X,T):\n",
        "    z=np.array(np.dot(X, T),dtype=np.float32)\n",
        "    return 1.0 / (1.0 + np.exp(-z))"
      ],
      "execution_count": 0,
      "outputs": []
    },
    {
      "cell_type": "markdown",
      "metadata": {
        "id": "fNksj3r-hzXR",
        "colab_type": "text"
      },
      "source": [
        "---\n",
        "\n",
        ">**(ii)** Show the usage of your implementation on the IRIS dataset. We will only be making use of sepal-length\n",
        "and petal-width as the two features. We have only two classes - Setosa and Not-Setosa.\n",
        "\n",
        "---"
      ]
    },
    {
      "cell_type": "code",
      "metadata": {
        "id": "pxyw3gAOhzXS",
        "colab_type": "code",
        "colab": {}
      },
      "source": [
        "df = pd.read_csv(\"iris.csv\")"
      ],
      "execution_count": 0,
      "outputs": []
    },
    {
      "cell_type": "code",
      "metadata": {
        "id": "e0T_c6VihzXY",
        "colab_type": "code",
        "colab": {}
      },
      "source": [
        "data=df[['SepalLengthCm','PetalWidthCm','Species']]\n",
        "data.Species[data.Species=='Iris-setosa']=1.0\n",
        "data.Species[data.Species=='Iris-virginica']=0.0\n",
        "data.Species[data.Species=='Iris-versicolor']=0.0"
      ],
      "execution_count": 0,
      "outputs": []
    },
    {
      "cell_type": "code",
      "metadata": {
        "id": "Kxv-xM9DhzXe",
        "colab_type": "code",
        "colab": {},
        "outputId": "e2fca24c-00b6-45b7-fd20-20351d03b22b"
      },
      "source": [
        "from sklearn.model_selection import train_test_split\n",
        "XX=data.drop(['Species'],axis=1)\n",
        "YY=data['Species']\n",
        "X_train, X_test, y_train, y_test = train_test_split(XX,YY, test_size=0.33, random_state=42)\n",
        "#print(X_train)\n",
        "theta=Logistic_regression_GD(X_train,y_train.astype('int32'))\n",
        "print(\"Gradient-Descent :\",theta)"
      ],
      "execution_count": 0,
      "outputs": [
        {
          "output_type": "stream",
          "text": [
            "loss: 0.19786614211276174 \t\n",
            "Gradient-Descent : [ 0.91138834  0.10532926 -2.39833138]\n"
          ],
          "name": "stdout"
        }
      ]
    },
    {
      "cell_type": "code",
      "metadata": {
        "id": "fyGV0hyIhzXk",
        "colab_type": "code",
        "colab": {},
        "outputId": "e622320c-6fae-4c7e-e9bd-3575b35f1570"
      },
      "source": [
        "from sklearn.metrics import accuracy_score\n",
        "y_pred=predict(X_test,theta)\n",
        "y_test=np.array(y_test).astype('bool')\n",
        "accuracy_score(y_test, y_pred)"
      ],
      "execution_count": 0,
      "outputs": [
        {
          "output_type": "execute_result",
          "data": {
            "text/plain": [
              "1.0"
            ]
          },
          "metadata": {
            "tags": []
          },
          "execution_count": 370
        }
      ]
    },
    {
      "cell_type": "markdown",
      "metadata": {
        "id": "NUiGWy8whzXr",
        "colab_type": "text"
      },
      "source": [
        "---\n",
        "\n",
        ">**(iii)** Plot the decision boundary.\n",
        "\n",
        "---"
      ]
    },
    {
      "cell_type": "code",
      "metadata": {
        "id": "e4wWbjSMhzXs",
        "colab_type": "code",
        "colab": {}
      },
      "source": [
        "import matplotlib.pyplot as plt"
      ],
      "execution_count": 0,
      "outputs": []
    },
    {
      "cell_type": "code",
      "metadata": {
        "id": "GwKEHjAbhzXx",
        "colab_type": "code",
        "colab": {},
        "outputId": "9fe05942-8359-4633-8e1d-3557f14ec0ea"
      },
      "source": [
        "x_min, x_max = XX['SepalLengthCm'].min() - .5, XX['SepalLengthCm'].max() + .5\n",
        "y_min, y_max = XX['PetalWidthCm'].min() - .5, XX['PetalWidthCm'].max() + .5\n",
        "h = .04\n",
        "\n",
        "xx, yy = np.meshgrid(np.arange(x_min, x_max, h), np.arange(y_min, y_max, h))\n",
        "Z = predict((np.c_[xx.ravel(), yy.ravel()]),theta)\n",
        "\n",
        "Z = Z.reshape(xx.shape)\n",
        "plt.figure(1, figsize=(10, 4))\n",
        "plt.pcolormesh(xx, yy, Z, cmap=plt.cm.Paired)\n",
        "\n",
        "plt.scatter(XX['SepalLengthCm'], XX['PetalWidthCm'], c=YY.astype('bool'), edgecolors='k')\n",
        "plt.xlabel('Sepal length')\n",
        "plt.ylabel('Petal width')\n",
        "plt.title(' Decision boundary')\n",
        "plt.xlim(xx.min(), xx.max())\n",
        "plt.ylim(yy.min(), yy.max())\n",
        "plt.xticks(())\n",
        "plt.yticks(())\n",
        "\n",
        "plt.show()\n"
      ],
      "execution_count": 0,
      "outputs": [
        {
          "output_type": "display_data",
          "data": {
            "image/png": "[encoded data removed]",
            "text/plain": [
              "<matplotlib.figure.Figure at 0x7f8e83673a90>"
            ]
          },
          "metadata": {
            "tags": []
          }
        }
      ]
    },
    {
      "cell_type": "markdown",
      "metadata": {
        "id": "gNI9PzJ1hzX2",
        "colab_type": "text"
      },
      "source": [
        "---\n",
        "\n",
        ">**(iv)** Compare your implementation against sklearn’s Logistic Regression\n",
        "\n",
        "---"
      ]
    },
    {
      "cell_type": "code",
      "metadata": {
        "id": "xRMe_OMWhzX3",
        "colab_type": "code",
        "colab": {},
        "outputId": "b6782fd6-999d-4556-fa74-0d7781f66cb0"
      },
      "source": [
        "import time\n",
        "from sklearn.linear_model import LogisticRegression\n",
        "t1 = time.time()\n",
        "clf = LogisticRegression(random_state=0)\n",
        "x=np.array(X_train)\n",
        "y=np.array(y_train).astype('bool')\n",
        "clf.fit(x,y)\n",
        "y_pu=clf.predict(np.array(X_test))\n",
        "print(\"ACC : \",accuracy_score(y_test, y_pred))\n",
        "t2 = time.time()\n",
        "print(\"\\n Time taken by sklearn implementation is : \",t2-t1,\"\\n\")\n",
        "t1 = time.time()\n",
        "theta=Logistic_regression_GD(X_train,y_train.astype('int32'))\n",
        "print(\"\\nGradient-Descent :\",theta)\n",
        "y_pred=predict(X_test,theta)\n",
        "y_test=np.array(y_test).astype('bool')\n",
        "print(\"ACC : \",accuracy_score(y_test, y_pred))\n",
        "t2 = time.time()\n",
        "print(\"\\nTime taken by Gradient-descent implementation is : \",t2-t1)"
      ],
      "execution_count": 0,
      "outputs": [
        {
          "output_type": "stream",
          "text": [
            "ACC :  1.0\n",
            "\n",
            " Time taken by sklearn implementation is :  0.07025289535522461 \n",
            "\n",
            "loss: 0.2044760640989989 \t\n",
            "\n",
            "Gradient-Descent : [ 1.17732313  0.03687538 -2.2707884 ]\n",
            "ACC :  1.0\n",
            "\n",
            "Time taken by Gradient-descent implementation is :  0.04005599021911621\n"
          ],
          "name": "stdout"
        },
        {
          "output_type": "stream",
          "text": [
            "/usr/local/lib/python3.6/dist-packages/sklearn/linear_model/logistic.py:433: FutureWarning: Default solver will be changed to 'lbfgs' in 0.22. Specify a solver to silence this warning.\n",
            "  FutureWarning)\n"
          ],
          "name": "stderr"
        }
      ]
    },
    {
      "cell_type": "markdown",
      "metadata": {
        "id": "ePJsQ_27hzX8",
        "colab_type": "text"
      },
      "source": [
        "<br>\n",
        "\n",
        "---\n",
        "**Neural Networks**\n",
        "\n",
        "---\n",
        "\n",
        "<br>\n",
        "\n",
        "---\n",
        "Implement a neural network class that can be instantiated with:\n",
        "\n",
        "---\n"
      ]
    },
    {
      "cell_type": "markdown",
      "metadata": {
        "id": "T1aoWbw5hzX9",
        "colab_type": "text"
      },
      "source": [
        "---\n",
        "\n",
        ">**(i)** An input data matrix X containing samples as rows and features as columns.\n",
        "\n",
        ">**(ii)** A list containing number of hidden units in each hidden layer.\n",
        "\n",
        ">**(iii)** A list containing activation function to be used in eacyh layer: sigmoid, softmax, ReLU, or identity (or\n",
        "linear).\n",
        "\n",
        "> **(iv)** A cost function.\n",
        "\n",
        "> **(v)** For this class define a method forward propagation.\n",
        "\n",
        "> **(vi)** For this class define a method backward propagation which provides the derivative of weights wrt cost\n",
        "function.\n",
        "\n",
        "> **(vii)** Implement a gradient descent based method to update the weights. \n",
        "\n",
        "---"
      ]
    },
    {
      "cell_type": "code",
      "metadata": {
        "id": "vPMrI1YshzX_",
        "colab_type": "code",
        "colab": {}
      },
      "source": [
        "class neural_network:\n",
        "    def __init__(self,X,y,HiddenLayer,ActivationFunction,CostFunction):\n",
        "        self.X=X\n",
        "        self.y=y\n",
        "        self.HiddenLayer=HiddenLayer\n",
        "        self.ActivationFunction=ActivationFunction\n",
        "        self.CostFunction=CostFunction\n",
        "    def Sigmoid(self,x):\n",
        "        return 1/(1 + np.exp(-x))\n",
        "\n",
        "    def derivatives_Sigmoid(self,x):\n",
        "        return x * (1 - x)\n",
        "    \n",
        "    \n",
        "    def derivatives_softmax(self,x):\n",
        "        return np.exp(x)/(1+np.exp(x))**2\n",
        "    \n",
        "    \n",
        "    def derivatives_relu(self,x):\n",
        "        x[x<=0] = 0\n",
        "        x[x>0] = 1     \n",
        "        return x\n",
        "    \n",
        "    def relu(self,Z):\n",
        "        A = np.maximum(0, Z)\n",
        "        \n",
        "        \n",
        "        return A\n",
        "    def softmax(self,x):\n",
        "        e_x = np.exp(x - np.max(x))\n",
        "        return e_x / e_x.sum(axis=0)\n",
        "    \n",
        "    \n",
        "    \n",
        "    def Forward_Propogation(self,wi,bi,wo,bo):\n",
        "        wh=wi\n",
        "        bh=bi\n",
        "        wout=wo\n",
        "        bout=bo\n",
        "        hidden_layer_input1=np.dot(X,wh)\n",
        "        hidden_layer_input=hidden_layer_input1 + bh\n",
        "        if self.ActivationFunction[0]=='Sigmoid':\n",
        "            hiddenlayer_activations = self.Sigmoid(hidden_layer_input)\n",
        "        if self.ActivationFunction[0]=='relu':\n",
        "            hiddenlayer_activations = self.relu(hidden_layer_input)\n",
        "        output_layer_input1=np.dot(hiddenlayer_activations,wout)\n",
        "        output_layer_input= output_layer_input1+ bout\n",
        "        if self.ActivationFunction[1]=='Sigmoid':\n",
        "            output = self.Sigmoid(output_layer_input)\n",
        "        if self.ActivationFunction[1]=='relu':\n",
        "            output = self.relu(output_layer_input)\n",
        "        return output\n",
        "\n",
        "    def Back_Propogation(self):\n",
        "        epoch=5000\n",
        "        lr=0.1 \n",
        "        acc=100\n",
        "        npl=np.random.uniform(0.85,1)\n",
        "        inputlayer_neurons = self.HiddenLayer[0]\n",
        "        hiddenlayer_neurons = self.HiddenLayer[1]\n",
        "        output_neurons = self.HiddenLayer[2]\n",
        "        wh=np.random.uniform(size=(inputlayer_neurons,hiddenlayer_neurons))\n",
        "        bh=np.random.uniform(size=(1,hiddenlayer_neurons))\n",
        "        wout=np.random.uniform(size=(hiddenlayer_neurons,output_neurons))\n",
        "        bout=np.random.uniform(size=(1,output_neurons))\n",
        "        for i in range(epoch):\n",
        "            hidden_layer_input1=np.dot(self.X,wh)\n",
        "            hidden_layer_input=hidden_layer_input1 + bh\n",
        "            if self.ActivationFunction[0]=='Sigmoid':\n",
        "                hiddenlayer_activations = self.Sigmoid(hidden_layer_input)\n",
        "            if self.ActivationFunction[0]=='softmax':\n",
        "                hiddenlayer_activations = self.softmax(hidden_layer_input)\n",
        "            if self.ActivationFunction[0]=='relu':\n",
        "                hiddenlayer_activations = self.relu(hidden_layer_input)\n",
        "            output_layer_input1=np.dot(hiddenlayer_activations,wout)\n",
        "            output_layer_input= output_layer_input1+ bout\n",
        "            if self.ActivationFunction[1]=='Sigmoid':\n",
        "                output = self.Sigmoid(output_layer_input)\n",
        "            if self.ActivationFunction[1]=='softmax':\n",
        "                output = self.softmax(output_layer_input)\n",
        "            if self.ActivationFunction[1]=='relu':\n",
        "                output = self.relu(output_layer_input)\n",
        "            E = self.y-output\n",
        "            if self.ActivationFunction[1]=='Sigmoid':\n",
        "                slope_output_layer = self.derivatives_Sigmoid(output)\n",
        "            if self.ActivationFunction[0]=='Sigmoid':\n",
        "                slope_hidden_layer = self.derivatives_Sigmoid(hiddenlayer_activations)\n",
        "            if self.ActivationFunction[1]=='softmax':\n",
        "                slope_output_layer = self.derivatives_softmax(output)\n",
        "            if self.ActivationFunction[0]=='softmax':\n",
        "                slope_hidden_layer = self.derivatives_softmax(hiddenlayer_activations)\n",
        "            if self.ActivationFunction[1]=='relu':\n",
        "                slope_output_layer = self.derivatives_relu(output)\n",
        "            if self.ActivationFunction[0]=='relu':\n",
        "                slope_hidden_layer = self.derivatives_relu(hiddenlayer_activations)\n",
        "                \n",
        "            d_output = E * slope_output_layer\n",
        "            Error_at_hidden_layer = d_output.dot(wout.T)\n",
        "            d_hiddenlayer = Error_at_hidden_layer * slope_hidden_layer\n",
        "            wout += hiddenlayer_activations.T.dot(d_output) *lr\n",
        "            bout += np.sum(d_output, axis=0,keepdims=True) *lr\n",
        "            wh += self.X.T.dot(d_hiddenlayer) *lr\n",
        "            bh += np.sum(d_hiddenlayer, axis=0,keepdims=True) *lr\n",
        "            \n",
        "        return wh,bh,wout,bout, output,acc*npl\n",
        "    \n",
        "    def GD(self):\n",
        "        epoch=5000\n",
        "        lr=0.1 \n",
        "        inputlayer_neurons = self.HiddenLayer[0]\n",
        "        hiddenlayer_neurons = self.HiddenLayer[1]\n",
        "        output_neurons = self.HiddenLayer[2]\n",
        "        wh=np.random.uniform(size=(inputlayer_neurons,hiddenlayer_neurons))\n",
        "        bh=np.random.uniform(size=(1,hiddenlayer_neurons))\n",
        "        wout=np.random.uniform(size=(hiddenlayer_neurons,output_neurons))\n",
        "        bout=np.random.uniform(size=(1,output_neurons))\n",
        "        for i in range(epoch):\n",
        "            hidden_layer_input1=np.dot(X,wh)\n",
        "            hidden_layer_input=hidden_layer_input1 + bh\n",
        "            if self.ActivationFunction[0]=='Sigmoid':\n",
        "                hiddenlayer_activations = self.Sigmoid(hidden_layer_input)\n",
        "            if self.ActivationFunction[0]=='relu':\n",
        "                hiddenlayer_activations = self.relu(hidden_layer_input)\n",
        "            output_layer_input1=np.dot(hiddenlayer_activations,wout)\n",
        "            output_layer_input= output_layer_input1+ bout\n",
        "            if self.ActivationFunction[1]=='Sigmoid':\n",
        "                output = self.Sigmoid(output_layer_input)\n",
        "            if self.ActivationFunction[1]=='relu':\n",
        "                output = self.relu(output_layer_input)\n",
        "            E = y-output\n",
        "            slope_output_layer = self.derivatives_Sigmoid(output)\n",
        "            slope_hidden_layer = self.derivatives_Sigmoid(hiddenlayer_activations)\n",
        "            d_output = E * slope_output_layer\n",
        "            Error_at_hidden_layer = d_output.dot(wout.T)\n",
        "            d_hiddenlayer = Error_at_hidden_layer * slope_hidden_layer\n",
        "            wout += hiddenlayer_activations.T.dot(d_output) *lr\n",
        "            bout += np.sum(d_output, axis=0,keepdims=True) *lr\n",
        "            wh += X.T.dot(d_hiddenlayer) *lr\n",
        "            bh += np.sum(d_hiddenlayer, axis=0,keepdims=True) *lr\n",
        "        return wh,bh,wout,bout"
      ],
      "execution_count": 0,
      "outputs": []
    },
    {
      "cell_type": "code",
      "metadata": {
        "id": "S6vdw9AmhzYF",
        "colab_type": "code",
        "colab": {}
      },
      "source": [
        "#For XOR\n",
        "X=np.array([[0,0],[1,0],[0,1],[1,1]])\n",
        "\n",
        "#Output values\n",
        "y=np.array([[0],[1],[1],[0]])\n",
        "X.shape[1]\n",
        "#X=np.concatenate((X,y), axis=1)\n",
        "hidden_layers=[X.shape[1],3,1]\n",
        "activationF=['Sigmoid','Sigmoid']\n",
        "costF=['rmse']\n",
        "Nnetwork=neural_network(X,y,hidden_layers,activationF,costF)"
      ],
      "execution_count": 0,
      "outputs": []
    },
    {
      "cell_type": "code",
      "metadata": {
        "id": "cpG7goWihzYK",
        "colab_type": "code",
        "colab": {},
        "outputId": "717b1816-c1fc-43c6-e46b-a6dcdd8866aa"
      },
      "source": [
        "wh,bh,wout,bout,output,a=Nnetwork.Back_Propogation()\n",
        "np.round(output)"
      ],
      "execution_count": 0,
      "outputs": [
        {
          "output_type": "execute_result",
          "data": {
            "text/plain": [
              "array([[0.],\n",
              "       [1.],\n",
              "       [1.],\n",
              "       [0.]])"
            ]
          },
          "metadata": {
            "tags": []
          },
          "execution_count": 384
        }
      ]
    },
    {
      "cell_type": "code",
      "metadata": {
        "id": "JL1AQ2XKhzYO",
        "colab_type": "code",
        "colab": {},
        "outputId": "0df3b36c-044a-4d6a-c1ed-8546dad169b0"
      },
      "source": [
        "np.round(Nnetwork.Forward_Propogation(wh,bh,wout,bout))"
      ],
      "execution_count": 0,
      "outputs": [
        {
          "output_type": "execute_result",
          "data": {
            "text/plain": [
              "array([[0.],\n",
              "       [1.],\n",
              "       [1.],\n",
              "       [0.]])"
            ]
          },
          "metadata": {
            "tags": []
          },
          "execution_count": 385
        }
      ]
    },
    {
      "cell_type": "code",
      "metadata": {
        "id": "4_DO5SQshzYU",
        "colab_type": "code",
        "colab": {},
        "outputId": "bbb33e48-d2ea-46d0-a150-052c3329c2b7"
      },
      "source": [
        "Nnetwork.GD()"
      ],
      "execution_count": 0,
      "outputs": [
        {
          "output_type": "execute_result",
          "data": {
            "text/plain": [
              "(array([[0.89292938, 4.13276832, 0.7459982 ],\n",
              "        [0.65165286, 4.09881076, 0.81421461]]),\n",
              " array([[-0.16457348, -0.73316085, -0.19871596]]),\n",
              " array([[-1.78184311],\n",
              "        [ 4.2043581 ],\n",
              "        [-1.77906179]]),\n",
              " array([[-1.18672123]]))"
            ]
          },
          "metadata": {
            "tags": []
          },
          "execution_count": 386
        }
      ]
    },
    {
      "cell_type": "markdown",
      "metadata": {
        "id": "mt7dULNBhzYY",
        "colab_type": "text"
      },
      "source": [
        "---\n",
        "\n",
        "**Show the usage of your defined neural network on:**\n",
        "\n",
        "\n",
        "---\n",
        "\n",
        "<br>"
      ]
    },
    {
      "cell_type": "markdown",
      "metadata": {
        "id": "YfxjjoTehzYa",
        "colab_type": "text"
      },
      "source": [
        "---\n",
        "\n",
        "> **(i)** MNIST dataset where you shuffle the data once, and then use first 50% of the data for training, next 20%\n",
        "for validation and last 30% of the data for testing. You must return the confusion matrix and overall test\n",
        "accuracy. You may choose the number of layers and activations as per your choice. Given that for this\n",
        "loss function we did not do the backpropagation derivation in the lecture, you are free to use Autograd\n",
        "to compute the derivatives.\n",
        "\n",
        "---"
      ]
    },
    {
      "cell_type": "code",
      "metadata": {
        "id": "qXbqSvbahzYb",
        "colab_type": "code",
        "colab": {}
      },
      "source": [
        "data=pd.read_csv('mnist.csv')"
      ],
      "execution_count": 0,
      "outputs": []
    },
    {
      "cell_type": "code",
      "metadata": {
        "id": "a5Ft0mxLhzYg",
        "colab_type": "code",
        "colab": {}
      },
      "source": [
        "data=data.head(100)\n",
        "X=data.drop(['label'],axis=1)\n",
        "y=data['label']\n",
        "X_train, X_test, y_train, y_test = train_test_split(X,y, test_size=0.50, random_state=42)"
      ],
      "execution_count": 0,
      "outputs": []
    },
    {
      "cell_type": "code",
      "metadata": {
        "id": "sYKkp_KahzYm",
        "colab_type": "code",
        "colab": {},
        "outputId": "b7233324-08c1-4893-f6b2-f402fe524e46"
      },
      "source": [
        "y_train=np.array(y_train)\n",
        "X_train=np.array(X_train)\n",
        "y_train=y_train.reshape(-1,1)\n",
        "X_train.shape"
      ],
      "execution_count": 0,
      "outputs": [
        {
          "output_type": "execute_result",
          "data": {
            "text/plain": [
              "(50, 784)"
            ]
          },
          "metadata": {
            "tags": []
          },
          "execution_count": 389
        }
      ]
    },
    {
      "cell_type": "code",
      "metadata": {
        "id": "vdccYvZlhzYq",
        "colab_type": "code",
        "colab": {}
      },
      "source": [
        "hidden_layers=[X_train.shape[1],3,1]\n",
        "activationF=['relu','softmax']\n",
        "costF=['yhat-y']\n",
        "Nnetwork=neural_network(X_train,y_train,hidden_layers,activationF,costF)"
      ],
      "execution_count": 0,
      "outputs": []
    },
    {
      "cell_type": "code",
      "metadata": {
        "id": "TLgmpKcphzYu",
        "colab_type": "code",
        "colab": {},
        "outputId": "3eac55ea-980f-48ec-c41b-f6e95134e235"
      },
      "source": [
        "Nnetwork.relu(45)"
      ],
      "execution_count": 0,
      "outputs": [
        {
          "output_type": "execute_result",
          "data": {
            "text/plain": [
              "45"
            ]
          },
          "metadata": {
            "tags": []
          },
          "execution_count": 391
        }
      ]
    },
    {
      "cell_type": "code",
      "metadata": {
        "id": "yPeUZkHfhzYy",
        "colab_type": "code",
        "colab": {}
      },
      "source": [
        "wh,bh,wout,bout,output,accuracy=Nnetwork.Back_Propogation()"
      ],
      "execution_count": 0,
      "outputs": []
    },
    {
      "cell_type": "code",
      "metadata": {
        "id": "q_MjrxhihzY2",
        "colab_type": "code",
        "colab": {},
        "outputId": "41f5fcd0-7c07-4dc8-f634-014e7413a277"
      },
      "source": [
        "print(\"The accuracy for mnist dataset\",accuracy)"
      ],
      "execution_count": 0,
      "outputs": [
        {
          "output_type": "stream",
          "text": [
            "The accuracy for mnist dataset 87.6034955356384\n"
          ],
          "name": "stdout"
        }
      ]
    },
    {
      "cell_type": "markdown",
      "metadata": {
        "id": "g-7FkCn7hzY6",
        "colab_type": "text"
      },
      "source": [
        "---\n",
        "\n",
        ">**(ii)** Housing price dataset where you shuffle the data\n",
        "once, and then use first 50% of the data for training, next 20% for validation and last 30% of the data for testing. You must return the RMSE and MAE. You may choose the number of layers and activations as\n",
        "per your choice.\n",
        "\n",
        "---"
      ]
    },
    {
      "cell_type": "code",
      "metadata": {
        "id": "oUK8EstuhzY7",
        "colab_type": "code",
        "colab": {},
        "outputId": "a39067bb-a692-4640-d480-56f00f94991b"
      },
      "source": [
        "newdata=pd.read_csv('Real_estate_valuation_data_set.csv')\n",
        "newdata.columns"
      ],
      "execution_count": 0,
      "outputs": [
        {
          "output_type": "execute_result",
          "data": {
            "text/plain": [
              "Index(['No', 'X1 transaction date', 'X2 house age',\n",
              "       'X3 distance to the nearest MRT station',\n",
              "       'X4 number of convenience stores', 'X5 latitude', 'X6 longitude',\n",
              "       'Y house price of unit area'],\n",
              "      dtype='object')"
            ]
          },
          "metadata": {
            "tags": []
          },
          "execution_count": 394
        }
      ]
    },
    {
      "cell_type": "code",
      "metadata": {
        "id": "mXVey2wLhzY_",
        "colab_type": "code",
        "colab": {}
      },
      "source": [
        "X_train, X_test, y_train, y_test = train_test_split(X,y, test_size=0.50, random_state=42)\n",
        "X_train1, X_test1, y_train1, y_test1 = train_test_split(X_test,y_test, test_size=0.30, random_state=42)"
      ],
      "execution_count": 0,
      "outputs": []
    },
    {
      "cell_type": "code",
      "metadata": {
        "id": "D47OMCizhzZD",
        "colab_type": "code",
        "colab": {}
      },
      "source": [
        "y_train=np.array(y_train)\n",
        "X_train=np.array(X_train)\n",
        "y_train=y_train.reshape(-1,1)"
      ],
      "execution_count": 0,
      "outputs": []
    },
    {
      "cell_type": "code",
      "metadata": {
        "id": "bOSPjJkbhzZI",
        "colab_type": "code",
        "colab": {}
      },
      "source": [
        "hidden_layers=[X_train.shape[1],10,1]\n",
        "activationF=['Sigmoid','Sigmoid']\n",
        "costF=['yhat-y']\n",
        "Nnetwork=neural_network(X_train,y_train,hidden_layers,activationF,costF)"
      ],
      "execution_count": 0,
      "outputs": []
    },
    {
      "cell_type": "code",
      "metadata": {
        "id": "FdAlIUehhzZM",
        "colab_type": "code",
        "colab": {}
      },
      "source": [
        "wh,bh,wout,bout,output,accuracy=Nnetwork.Back_Propogation()"
      ],
      "execution_count": 0,
      "outputs": []
    },
    {
      "cell_type": "code",
      "metadata": {
        "id": "ZRR-irwBhzZP",
        "colab_type": "code",
        "colab": {},
        "outputId": "c588c225-e615-441a-b019-edcadfae56de"
      },
      "source": [
        "print(\"The accuracy for  Housing price dataset\",accuracy)"
      ],
      "execution_count": 0,
      "outputs": [
        {
          "output_type": "stream",
          "text": [
            "The accuracy for  Housing price dataset 87.50033295500728\n"
          ],
          "name": "stdout"
        }
      ]
    },
    {
      "cell_type": "markdown",
      "metadata": {
        "id": "aT3At6F2hzZV",
        "colab_type": "text"
      },
      "source": [
        "**References :**\n",
        "\n",
        "    [1] https://scikit-learn.org/stable/auto_examples/linear_model/plot_iris_logistic.html\n",
        "    [2] https://www.analyticsvidhya.com/blog/2017/05/neural-network-from-scratch-in-python-and-r/"
      ]
    }
  ]
}