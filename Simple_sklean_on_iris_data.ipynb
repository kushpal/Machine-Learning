{
  "nbformat": 4,
  "nbformat_minor": 0,
  "metadata": {
    "colab": {
      "name": "Simple_sklean_on_iris_data.ipynb",
      "provenance": []
    },
    "kernelspec": {
      "name": "python3",
      "display_name": "Python 3"
    }
  },
  "cells": [
    {
      "cell_type": "code",
      "metadata": {
        "id": "S8QqhgaAbpDM",
        "colab_type": "code",
        "colab": {
          "base_uri": "https://localhost:8080/",
          "height": 68
        },
        "outputId": "1ad0f6af-8f84-49f2-c737-02ef2321f12b"
      },
      "source": [
        "import pandas as pd\n",
        "from sklearn.model_selection import train_test_split\n",
        "from sklearn import tree\n",
        "from sklearn.metrics import accuracy_score\n",
        "from sklearn import datasets\n",
        "iris = datasets.load_iris()\n",
        "X = iris.data\n",
        "y = iris.target\n",
        "x_train, x_test, y_train, y_test = train_test_split(X,y, test_size=0.3) \n",
        "clf = tree.DecisionTreeClassifier(max_depth = 15,min_samples_leaf=2)\n",
        "clf = clf.fit(x_train,y_train)\n",
        "pred = clf.predict(x_test)\n",
        "\n",
        "accuracy = accuracy_score(y_test, pred, normalize=True, sample_weight=None)\n",
        "\n",
        "print(\"THE SIZE OF DATASET :\",len(X))\n",
        "print(\"MAXIMUM DEPTH OF THE TREE :\",15)\n",
        "print(\"Accuracy :\",(accuracy*100.0))"
      ],
      "execution_count": 5,
      "outputs": [
        {
          "output_type": "stream",
          "text": [
            "THE SIZE OF DATASET : 150\n",
            "MAXIMUM DEPTH OF THE TREE : 15\n",
            "Accuracy : 97.77777777777777\n"
          ],
          "name": "stdout"
        }
      ]
    },
    {
      "cell_type": "code",
      "metadata": {
        "id": "ktKILFqgdtXz",
        "colab_type": "code",
        "colab": {}
      },
      "source": [
        ""
      ],
      "execution_count": 0,
      "outputs": []
    }
  ]
}