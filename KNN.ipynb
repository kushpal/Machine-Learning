{
  "nbformat": 4,
  "nbformat_minor": 0,
  "metadata": {
    "kernelspec": {
      "display_name": "Python 2",
      "language": "python",
      "name": "python2"
    },
    "language_info": {
      "codemirror_mode": {
        "name": "ipython",
        "version": 3
      },
      "file_extension": ".py",
      "mimetype": "text/x-python",
      "name": "python",
      "nbconvert_exporter": "python",
      "pygments_lexer": "ipython3",
      "version": "3.6.7"
    },
    "colab": {
      "name": "KNN",
      "provenance": [],
      "collapsed_sections": [],
      "include_colab_link": true
    }
  },
  "cells": [
    {
      "cell_type": "markdown",
      "metadata": {
        "id": "view-in-github",
        "colab_type": "text"
      },
      "source": [
        "<a href=\"https://colab.research.google.com/github/kushpal/Machine-Learning/blob/master/KNN.ipynb\" target=\"_parent\"><img src=\"https://colab.research.google.com/assets/colab-badge.svg\" alt=\"Open In Colab\"/></a>"
      ]
    },
    {
      "cell_type": "markdown",
      "metadata": {
        "id": "PJ0Gz5-1TGF4",
        "colab_type": "text"
      },
      "source": [
        "---\n",
        "\n",
        "**Implement KNN classification and regression using Numpy and Pandas. Keep the distance metric as a func-\n",
        "tion argument which can take: ’Euclidean’, ’Manhattan’ or ’Cosine’**\n",
        "\n",
        "---"
      ]
    },
    {
      "cell_type": "code",
      "metadata": {
        "id": "7meNFOOvTGF6",
        "colab_type": "code",
        "colab": {}
      },
      "source": [
        "import numpy as np\n",
        "import pandas as pd\n",
        "import operator "
      ],
      "execution_count": 0,
      "outputs": []
    },
    {
      "cell_type": "code",
      "metadata": {
        "id": "Rg5jFroATGGA",
        "colab_type": "code",
        "colab": {}
      },
      "source": [
        "def KNN_predict(train_X, train_Y, test_X, K,Type='classification',  distance_metric='Euclidean'):\n",
        "    train_X=np.array(train_X)\n",
        "    train_Y=np.array(train_Y)\n",
        "    train_Y=np.reshape(train_Y,(-1,1))\n",
        "    train_X=np.append(train_X,train_Y,axis=1)\n",
        "    y_pred=[]\n",
        "    for i in range(len(test_X)):\n",
        "        neighbors=getKNeighbors(train_X,test_X[i], K,distance_metric)\n",
        "        y_pred.append(get_class(neighbors,Type))\n",
        "    return np.array(y_pred)"
      ],
      "execution_count": 0,
      "outputs": []
    },
    {
      "cell_type": "code",
      "metadata": {
        "id": "-2gJFG8JTGGF",
        "colab_type": "code",
        "colab": {}
      },
      "source": [
        "def getKNeighbors(train_X, test_X, k,distance_metric):\n",
        "    distances = []\n",
        "    length = len(test_X)-1\n",
        "    for i in range(len(train_X)):\n",
        "        if distance_metric=='Euclidean':\n",
        "            dist = Euclidean(test_X, train_X[i], length)\n",
        "            distances.append((train_X[i], dist))\n",
        "        if distance_metric=='Manhattan':\n",
        "            dist = Manhattan(test_X, train_X[i], length)\n",
        "            distances.append((train_X[i], dist))\n",
        "        if distance_metric=='Cosine':\n",
        "            dist = Cosine(test_X, train_X[i], length)\n",
        "            distances.append((train_X[i], dist))    \n",
        "           \n",
        "    distances.sort(key=operator.itemgetter(1))\n",
        "    neighbors = []\n",
        "    for i in range(k):\n",
        "        neighbors.append(distances[i][0])\n",
        "    return neighbors"
      ],
      "execution_count": 0,
      "outputs": []
    },
    {
      "cell_type": "code",
      "metadata": {
        "id": "sdNnTN7wTGGK",
        "colab_type": "code",
        "colab": {}
      },
      "source": [
        "def get_class(neighbors,Type):\n",
        "    classes = {}\n",
        "    if Type=='classification':\n",
        "        for i in range(len(neighbors)):\n",
        "            pred = neighbors[i][-1]\n",
        "            if pred in classes:\n",
        "                classes[pred] += 1\n",
        "            else:\n",
        "                classes[pred] = 1\n",
        "        y_pred = sorted(classes.items(), key=operator.itemgetter(1), reverse=True)\n",
        "        return y_pred[0][0]\n",
        "    if Type=='regression':\n",
        "        nsum=0\n",
        "        for i in range(len(neighbors)):\n",
        "            nsum+=neighbors[i][-1]\n",
        "        return nsum/len(neighbors)"
      ],
      "execution_count": 0,
      "outputs": []
    },
    {
      "cell_type": "code",
      "metadata": {
        "id": "tdMO0ifrTGGQ",
        "colab_type": "code",
        "colab": {}
      },
      "source": [
        "def Euclidean(p1, p2, length):\n",
        "    distance = 0\n",
        "    for i in range(length):\n",
        "        distance += pow((p1[i] - p2[i]), 2)\n",
        "    return np.sqrt(distance)"
      ],
      "execution_count": 0,
      "outputs": []
    },
    {
      "cell_type": "code",
      "metadata": {
        "id": "P9UyLFBCTGGV",
        "colab_type": "code",
        "colab": {}
      },
      "source": [
        "def Manhattan(p1, p2, length):\n",
        "    dis=0\n",
        "    for i in range(length):\n",
        "        dis+=np.absolute(p1[i]-p2[i])\n",
        "    return dis"
      ],
      "execution_count": 0,
      "outputs": []
    },
    {
      "cell_type": "code",
      "metadata": {
        "id": "mx2KosC_TGGa",
        "colab_type": "code",
        "colab": {}
      },
      "source": [
        "def Cosine(p1,p2,length):\n",
        "    mult=0\n",
        "    sum_p1=0\n",
        "    sum_p2=0\n",
        "    for i in range(length):\n",
        "        mult+=p1[i]*p2[i]\n",
        "        sum_p1+=np.power(p1[i],2)\n",
        "        sum_p2+=np.power(p2[i],2)\n",
        "    res=mult/(np.sqrt(sum_p1)*np.sqrt(sum_p2))\n",
        "    return res"
      ],
      "execution_count": 0,
      "outputs": []
    },
    {
      "cell_type": "code",
      "metadata": {
        "id": "CvYWEtOkTGGh",
        "colab_type": "code",
        "colab": {},
        "outputId": "62c6f53c-6c26-47cd-ab79-f7856d514f9e"
      },
      "source": [
        "train_X = [[2, 2, 2], [4, 4, 4],[1,2,3],[2,2,1]]\n",
        "test_X = [[1, 0, 4]]\n",
        "K = 3\n",
        "train_Y=[[1.0212],[1.212],[4.021],[4.214]]\n",
        "\n",
        "y_pred=KNN_predict(train_X, train_Y, test_X, K,Type='regression',  distance_metric='Euclidean')\n",
        "print(y_pred)"
      ],
      "execution_count": 0,
      "outputs": [
        {
          "output_type": "stream",
          "text": [
            "[ 3.0854]\n"
          ],
          "name": "stdout"
        }
      ]
    },
    {
      "cell_type": "markdown",
      "metadata": {
        "id": "7tVNd4jxTGGn",
        "colab_type": "text"
      },
      "source": [
        "---\n",
        "\n",
        "**Vary the dimension (number of features of X) and the number of train instances and empirically show the\n",
        "runtime of your algorithm as function of dimension and number of train instances. Feel free to use randomly\n",
        "generated data. How does this compare with the theoretical time complexity of KNN?**\n",
        "\n",
        "---"
      ]
    },
    {
      "cell_type": "code",
      "metadata": {
        "id": "tOTtX0YLTGGo",
        "colab_type": "code",
        "colab": {}
      },
      "source": [
        "import time\n",
        "K=7\n",
        "time_f =[]\n",
        "for i in range(8,101):\n",
        "    train_X=np.random.rand(i,100)\n",
        "    test_X=np.random.rand(i,100)\n",
        "    train_Y=np.random.rand(i)\n",
        "    t1 = time.time()\n",
        "    KNN_predict(train_X, train_Y, test_X, K,Type='regression',  distance_metric='Euclidean')\n",
        "    np.set_printoptions(precision=4)\n",
        "    t2 = time.time()\n",
        "    time_f.append(t2-t1)\n",
        "time_d=[]    \n",
        "for i in range(8,101):\n",
        "    train_X=np.random.rand(100,i)\n",
        "    test_X=np.random.rand(100,i)\n",
        "    train_Y=np.random.rand(100)\n",
        "    t1 = time.time()\n",
        "    KNN_predict(train_X, train_Y, test_X, K,Type='regression',  distance_metric='Euclidean')\n",
        "    np.set_printoptions(precision=4)\n",
        "    t2 = time.time()\n",
        "    time_d.append(t2-t1)\n",
        "    "
      ],
      "execution_count": 0,
      "outputs": []
    },
    {
      "cell_type": "code",
      "metadata": {
        "id": "uUu8hH5qTGGt",
        "colab_type": "code",
        "colab": {},
        "outputId": "263a5cb0-887d-447c-f2ab-c8e66aa41d41"
      },
      "source": [
        "import matplotlib.pyplot as plt\n",
        "\n",
        "%matplotlib inline\n",
        "x=np.arange(8,101)\n",
        "plt.plot(x,time_f)\n",
        "plt.xlabel('no of features')\n",
        "plt.ylabel('time')"
      ],
      "execution_count": 0,
      "outputs": [
        {
          "output_type": "execute_result",
          "data": {
            "text/plain": [
              "Text(0,0.5,'time')"
            ]
          },
          "metadata": {
            "tags": []
          },
          "execution_count": 22
        },
        {
          "output_type": "display_data",
          "data": {
            "image/png": "[encoded data removed]",
            "text/plain": [
              "<matplotlib.figure.Figure at 0x7f701cdc54e0>"
            ]
          },
          "metadata": {
            "tags": [],
            "needs_background": "light"
          }
        }
      ]
    },
    {
      "cell_type": "code",
      "metadata": {
        "id": "86-WCcv_TGGy",
        "colab_type": "code",
        "colab": {},
        "outputId": "ebe12238-2eba-475d-a820-ccb39f9d0947"
      },
      "source": [
        "plt.plot(x, time_d)\n",
        "plt.xlabel('no of instances')\n",
        "plt.ylabel('time')"
      ],
      "execution_count": 0,
      "outputs": [
        {
          "output_type": "execute_result",
          "data": {
            "text/plain": [
              "Text(0,0.5,'time')"
            ]
          },
          "metadata": {
            "tags": []
          },
          "execution_count": 23
        },
        {
          "output_type": "display_data",
          "data": {
            "image/png": "[encoded data removed]",
            "text/plain": [
              "<matplotlib.figure.Figure at 0x7f701cc2c860>"
            ]
          },
          "metadata": {
            "tags": [],
            "needs_background": "light"
          }
        }
      ]
    },
    {
      "cell_type": "markdown",
      "metadata": {
        "id": "jT_vNJoYTGG4",
        "colab_type": "text"
      },
      "source": [
        "---\n",
        "\n",
        "**Show the usage of scikit learn’s KNN module for the real estate price prediction regression problem.**\n",
        "\n",
        "---"
      ]
    },
    {
      "cell_type": "markdown",
      "metadata": {
        "id": "t51NmSO0T7kE",
        "colab_type": "text"
      },
      "source": [
        "<br>\n",
        "\n",
        "---\n",
        "\n",
        ">**(a)** Using 5-fold cross-validation report the optimal K value for each fold, alongside, Train, Validation and Test\n",
        "RMSE error. How does the test error compare with the test errors for the different folds you obtained in eariler\n",
        "assignments.\n",
        "\n",
        "---\n",
        "\n",
        "<br>"
      ]
    },
    {
      "cell_type": "code",
      "metadata": {
        "id": "655EeA1HTGG5",
        "colab_type": "code",
        "colab": {}
      },
      "source": [
        "from sklearn.neighbors import KNeighborsRegressor as KNN\n",
        "from sklearn.model_selection import train_test_split\n",
        "from sklearn.model_selection import KFold\n",
        "from sklearn.metrics import mean_squared_error\n",
        "import numpy as np\n",
        "import pandas as pd"
      ],
      "execution_count": 0,
      "outputs": []
    },
    {
      "cell_type": "code",
      "metadata": {
        "id": "hy-pNc1yTGG-",
        "colab_type": "code",
        "colab": {}
      },
      "source": [
        "def training_error(X_train, y_train, model):\n",
        "    predictions = model.predict(X_train)\n",
        "    mse = mean_squared_error(y_train, predictions)\n",
        "    rmse = np.sqrt(mse)\n",
        "    return mse\n",
        "def validation_error(X_test, y_test, model):\n",
        "    predictions = model.predict(X_test)\n",
        "    mse = mean_squared_error(y_test, predictions)\n",
        "    rmse = np.sqrt(mse)\n",
        "    return mse\n",
        "def testing_error(X_test, y_test, model):\n",
        "    predictions = model.predict(X_test)\n",
        "    mse = mean_squared_error(y_test, predictions)\n",
        "    rmse = np.sqrt(mse)\n",
        "    return mse\n",
        "\n",
        "def complete_metrics(X_train, y_train, X_test, y_test, model):\n",
        "    model.fit(X_train, y_train)\n",
        "    train_error = training_error(X_train[:20], y_train[:20], model)\n",
        "    test_error = testing_error(X_train[80:], y_train[80:], model)\n",
        "    val_error = validation_error(X_test, y_test, model)\n",
        "    return train_error,val_error,test_error"
      ],
      "execution_count": 0,
      "outputs": []
    },
    {
      "cell_type": "code",
      "metadata": {
        "id": "SvkdTFuaTGHG",
        "colab_type": "code",
        "colab": {},
        "outputId": "258cb6e3-c7c2-430d-82d1-a5c89b7aa156"
      },
      "source": [
        "mini=10000\n",
        "K =5 \n",
        "k_range = range(1, 20)\n",
        "\n",
        "data=pd.read_csv(\"Real_estate_valuation_data_set.csv\")\n",
        "target=data['Y house price of unit area']\n",
        "kf = KFold(n_splits=K, shuffle=True, random_state=15)\n",
        "for k in k_range:\n",
        "    train_errors = []\n",
        "    test_errors = []\n",
        "    validation_errors = []\n",
        "    for train_index, val_index in kf.split(data,target):\n",
        "        X_train1, X_val = data.iloc[train_index], data.iloc[val_index]\n",
        "        y_train1, y_val = target.iloc[train_index], target.iloc[val_index]\n",
        "        knn = KNN(n_neighbors=k)\n",
        "        train_error,val_error,test_error = complete_metrics(X_train1, y_train1, X_val, y_val, knn)\n",
        "        train_errors.append(train_error)\n",
        "        validation_errors.append(val_error)\n",
        "        test_errors.append(test_error)\n",
        "    print('K: {:6} | mean(train_error): {:7} |mean(test_error): {:7} | mean(val_error): {:7}'.format(k,round(np.mean(train_errors),4),round(np.mean(test_errors),4),round(np.mean(validation_errors),4)))\n",
        "    if np.mean(validation_errors)<mini:\n",
        "        mini=np.mean(validation_errors)\n",
        "        optimal_k=k\n",
        "print('Optimal value of k:',optimal_k)\n",
        "            "
      ],
      "execution_count": 0,
      "outputs": [
        {
          "output_type": "stream",
          "text": [
            "K:      1 | mean(train_error):     0.0 |mean(test_error):     0.0 | mean(val_error): 79.2481\n",
            "K:      2 | mean(train_error): 26.2468 |mean(test_error): 23.4899 | mean(val_error): 75.6316\n",
            "K:      3 | mean(train_error): 35.0742 |mean(test_error): 36.2493 | mean(val_error): 75.3495\n",
            "K:      4 | mean(train_error): 39.5728 |mean(test_error): 44.2758 | mean(val_error): 72.0821\n",
            "K:      5 | mean(train_error): 42.3695 |mean(test_error):  50.837 | mean(val_error): 72.9873\n",
            "K:      6 | mean(train_error): 48.2627 |mean(test_error): 55.5382 | mean(val_error): 71.8902\n",
            "K:      7 | mean(train_error): 48.9447 |mean(test_error):  58.637 | mean(val_error): 71.5657\n",
            "K:      8 | mean(train_error):  49.691 |mean(test_error): 60.2988 | mean(val_error): 70.4289\n",
            "K:      9 | mean(train_error): 50.5586 |mean(test_error): 61.0476 | mean(val_error): 70.0447\n",
            "K:     10 | mean(train_error): 51.6439 |mean(test_error): 63.5974 | mean(val_error): 71.7149\n",
            "K:     11 | mean(train_error): 51.5888 |mean(test_error): 65.4944 | mean(val_error): 72.8528\n",
            "K:     12 | mean(train_error): 52.5637 |mean(test_error): 67.2972 | mean(val_error): 72.2368\n",
            "K:     13 | mean(train_error): 53.8843 |mean(test_error): 68.8327 | mean(val_error): 71.0932\n",
            "K:     14 | mean(train_error):  54.559 |mean(test_error): 69.6297 | mean(val_error): 71.6742\n",
            "K:     15 | mean(train_error): 52.2256 |mean(test_error): 70.6233 | mean(val_error): 71.6472\n",
            "K:     16 | mean(train_error): 52.5653 |mean(test_error): 71.3456 | mean(val_error): 72.3212\n",
            "K:     17 | mean(train_error): 51.4651 |mean(test_error): 72.4002 | mean(val_error): 72.6447\n",
            "K:     18 | mean(train_error): 51.1935 |mean(test_error): 72.7249 | mean(val_error): 72.7326\n",
            "K:     19 | mean(train_error): 52.3419 |mean(test_error): 73.3226 | mean(val_error): 73.1815\n",
            "Optimal value of k: 9\n"
          ],
          "name": "stdout"
        }
      ]
    },
    {
      "cell_type": "markdown",
      "metadata": {
        "id": "lhWMkqb5TGHL",
        "colab_type": "text"
      },
      "source": [
        "<br>\n",
        "\n",
        "---\n",
        "\n",
        ">**(b)** Are all the features on the same scale in the above solution? Does that impact KNN? Now, scale the\n",
        "features between 0 and 1. You may also want to ensure that when you’re predicting, you scale the input features of the test set using the same function used to transform the train input features. Using 5-fold cross-\n",
        "validation report the optimal K value for each fold, alongside, Train, Validation and Test RMSE error.\n",
        "\n",
        "---\n",
        "\n",
        "<br>"
      ]
    },
    {
      "cell_type": "code",
      "metadata": {
        "id": "MFpEWq4iTGHM",
        "colab_type": "code",
        "colab": {},
        "outputId": "0d6f81e5-166f-41bd-dc78-b950e8e3e570"
      },
      "source": [
        "from sklearn import preprocessing\n",
        "mini=10000\n",
        "K =5 \n",
        "k_range = range(1, 20)\n",
        "\n",
        "data=pd.read_csv(\"Real_estate_valuation_data_set.csv\")\n",
        "data=data.drop(columns=['No'])\n",
        "names = data.columns\n",
        "scaler = preprocessing.MinMaxScaler(feature_range=(0, 1))\n",
        "scaled_data = scaler.fit_transform(data)\n",
        "scaled_data = pd.DataFrame(scaled_data, columns=names)\n",
        "\n",
        "data=scaled_data\n",
        "target=data['Y house price of unit area']\n",
        "\n",
        "kf = KFold(n_splits=K, shuffle=True, random_state=15)\n",
        "for k in k_range:\n",
        "    train_errors = []\n",
        "    test_errors = []\n",
        "    validation_errors = []\n",
        "    for train_index, val_index in kf.split(data,target):\n",
        "        X_train1, X_val = data.iloc[train_index], data.iloc[val_index]\n",
        "        y_train1, y_val = target.iloc[train_index], target.iloc[val_index]\n",
        "        knn = KNN(n_neighbors=k)\n",
        "        train_error,val_error,test_error = complete_metrics(X_train1, y_train1, X_val, y_val, knn)\n",
        "        train_errors.append(train_error)\n",
        "        validation_errors.append(val_error)\n",
        "        test_errors.append(test_error)\n",
        "    print('K: {:6} | mean(train_error): {:7} |mean(test_error): {:7} | mean(val_error): {:7}'.format(k,round(np.mean(train_errors),4),round(np.mean(test_errors),4),round(np.mean(validation_errors),4)))\n",
        "    if np.mean(validation_errors)<mini:\n",
        "        mini=np.mean(validation_errors)\n",
        "        optimal_k=k\n",
        "print('Optimal value of k:',optimal_k)\n",
        "            "
      ],
      "execution_count": 0,
      "outputs": [
        {
          "output_type": "stream",
          "text": [
            "/usr/local/lib/python3.6/dist-packages/sklearn/preprocessing/data.py:323: DataConversionWarning: Data with input dtype int64, float64 were all converted to float64 by MinMaxScaler.\n",
            "  return self.partial_fit(X, y)\n"
          ],
          "name": "stderr"
        },
        {
          "output_type": "stream",
          "text": [
            "K:      1 | mean(train_error):     0.0 |mean(test_error):     0.0 | mean(val_error):   0.004\n",
            "K:      2 | mean(train_error):  0.0005 |mean(test_error):  0.0011 | mean(val_error):  0.0035\n",
            "K:      3 | mean(train_error):  0.0007 |mean(test_error):  0.0018 | mean(val_error):  0.0035\n",
            "K:      4 | mean(train_error):  0.0008 |mean(test_error):  0.0022 | mean(val_error):  0.0034\n",
            "K:      5 | mean(train_error):   0.001 |mean(test_error):  0.0026 | mean(val_error):  0.0035\n",
            "K:      6 | mean(train_error):  0.0012 |mean(test_error):   0.003 | mean(val_error):  0.0038\n",
            "K:      7 | mean(train_error):  0.0013 |mean(test_error):  0.0031 | mean(val_error):  0.0039\n",
            "K:      8 | mean(train_error):  0.0015 |mean(test_error):  0.0033 | mean(val_error):   0.004\n",
            "K:      9 | mean(train_error):  0.0016 |mean(test_error):  0.0036 | mean(val_error):   0.004\n",
            "K:     10 | mean(train_error):  0.0016 |mean(test_error):  0.0038 | mean(val_error):  0.0041\n",
            "K:     11 | mean(train_error):  0.0017 |mean(test_error):   0.004 | mean(val_error):  0.0041\n",
            "K:     12 | mean(train_error):  0.0019 |mean(test_error):  0.0041 | mean(val_error):  0.0042\n",
            "K:     13 | mean(train_error):   0.002 |mean(test_error):  0.0042 | mean(val_error):  0.0042\n",
            "K:     14 | mean(train_error):  0.0021 |mean(test_error):  0.0043 | mean(val_error):  0.0043\n",
            "K:     15 | mean(train_error):  0.0022 |mean(test_error):  0.0044 | mean(val_error):  0.0044\n",
            "K:     16 | mean(train_error):  0.0024 |mean(test_error):  0.0045 | mean(val_error):  0.0044\n",
            "K:     17 | mean(train_error):  0.0024 |mean(test_error):  0.0045 | mean(val_error):  0.0044\n",
            "K:     18 | mean(train_error):  0.0024 |mean(test_error):  0.0046 | mean(val_error):  0.0045\n",
            "K:     19 | mean(train_error):  0.0024 |mean(test_error):  0.0047 | mean(val_error):  0.0045\n",
            "Optimal value of k: 4\n"
          ],
          "name": "stdout"
        }
      ]
    },
    {
      "cell_type": "markdown",
      "metadata": {
        "id": "F-0seFpkTGHQ",
        "colab_type": "text"
      },
      "source": [
        "<br>\n",
        "\n",
        "---\n",
        "\n",
        ">**(c)** Let us pick up a single fold (train on first 80% data and last 20% as test data) and plot train, test error as a function of K. Comment on the shape of the train error curve.\n",
        "\n",
        "---\n",
        "\n",
        "<br>"
      ]
    },
    {
      "cell_type": "code",
      "metadata": {
        "id": "63eNZFS4TGHR",
        "colab_type": "code",
        "colab": {}
      },
      "source": [
        "data=pd.read_csv(\"Real_estate_valuation_data_set.csv\")\n"
      ],
      "execution_count": 0,
      "outputs": []
    },
    {
      "cell_type": "code",
      "metadata": {
        "id": "dusfVvwJTGHY",
        "colab_type": "code",
        "colab": {}
      },
      "source": [
        "x_train=data.drop(columns=['Y house price of unit area'])\n",
        "\n",
        "y_train=data['Y house price of unit area']\n",
        "X_train, X_test, y_train, y_test = train_test_split(x_train, y_train, test_size=0.2, random_state=42)"
      ],
      "execution_count": 0,
      "outputs": []
    },
    {
      "cell_type": "code",
      "metadata": {
        "id": "4OabvO9wTGHf",
        "colab_type": "code",
        "colab": {}
      },
      "source": [
        "k_range = range(1, 50)\n",
        "\n",
        "error_test=[]\n",
        "error_train=[]\n",
        "max_err=-1\n",
        "\n",
        "for k in k_range:\n",
        "    knn = KNN(n_neighbors=k)\n",
        "    knn.fit(X_train, y_train)\n",
        "    y_pred=knn.predict(X_test)\n",
        "    y_pred_t=knn.predict(X_train)\n",
        "    err=mean_squared_error(y_test, y_pred)\n",
        "    if err>max_err:\n",
        "        max_err=err\n",
        "        k_v=k\n",
        "    error_test.append(err)\n",
        "    error_train.append(mean_squared_error(y_train, y_pred_t))\n",
        "    "
      ],
      "execution_count": 0,
      "outputs": []
    },
    {
      "cell_type": "code",
      "metadata": {
        "id": "JdQNtOUQTGHk",
        "colab_type": "code",
        "colab": {},
        "outputId": "1dac88de-62f8-4ac7-ff4f-f3e4bec8eda9"
      },
      "source": [
        "import matplotlib.pyplot as plt\n",
        "\n",
        "%matplotlib inline\n",
        "\n",
        "plt.plot(k_range, error_test)\n",
        "plt.xlabel('Value of K for KNN')\n",
        "plt.ylabel('error')\n",
        "plt.plot(k_range, error_train)\n",
        "plt.legend(['Testing error','Training error'])\n"
      ],
      "execution_count": 0,
      "outputs": [
        {
          "output_type": "execute_result",
          "data": {
            "text/plain": [
              "<matplotlib.legend.Legend at 0x7f701cc86908>"
            ]
          },
          "metadata": {
            "tags": []
          },
          "execution_count": 31
        },
        {
          "output_type": "display_data",
          "data": {
            "image/png": "[encoded data removed]",
            "text/plain": [
              "<matplotlib.figure.Figure at 0x7f701cc862b0>"
            ]
          },
          "metadata": {
            "tags": [],
            "needs_background": "light"
          }
        }
      ]
    },
    {
      "cell_type": "markdown",
      "metadata": {
        "id": "ZV-HoQq2TGHp",
        "colab_type": "text"
      },
      "source": [
        "For training error if the value of k increases then training error also increases"
      ]
    },
    {
      "cell_type": "markdown",
      "metadata": {
        "id": "cxx8kzMRTGHp",
        "colab_type": "text"
      },
      "source": [
        "<br>\n",
        "\n",
        "---\n",
        "\n",
        ">> i. On this test set, find the home which gives the maximum RMSE error. What can you say about KNN performance on this home. Why is it poor? Is there something you could do to improve the prediction\n",
        "for this home?\n",
        "\n",
        "---\n"
      ]
    },
    {
      "cell_type": "code",
      "metadata": {
        "id": "Q3qZZ8bYTGHq",
        "colab_type": "code",
        "colab": {},
        "outputId": "695d4c83-f654-436f-e10a-3852870aa88b"
      },
      "source": [
        "print(\"Max test rmse is \",max_err,\" when k value is \",k_v)"
      ],
      "execution_count": 0,
      "outputs": [
        {
          "output_type": "stream",
          "text": [
            "Max test rmse is  120.597951807  when k value is  1\n"
          ],
          "name": "stdout"
        }
      ]
    },
    {
      "cell_type": "markdown",
      "metadata": {
        "id": "KK_NMy6XTGHv",
        "colab_type": "text"
      },
      "source": [
        "<br>\n",
        "\n",
        "---\n",
        "\n",
        "**Draw a Voronoi diagram for the IRIS dataset for 1-NN, where we are only using ‘sepal-length‘ and ‘sepal-width‘\n",
        "as the two fearures. You could use 3 different colours for the 3 different classes. What can you infer from this\n",
        "diagram?**\n",
        "\n",
        "---\n",
        "\n",
        "<br>"
      ]
    },
    {
      "cell_type": "code",
      "metadata": {
        "id": "Y5YvOIO6TGHx",
        "colab_type": "code",
        "colab": {}
      },
      "source": [
        "from scipy.spatial import Voronoi, voronoi_plot_2d\n",
        "from sklearn.neighbors import KNeighborsRegressor as KNN\n",
        "import matplotlib.pyplot as plt\n",
        "import pandas as pd\n",
        "import numpy as np\n",
        "data=pd.read_csv('iris.csv')\n",
        "\n",
        "d={'sepal-length':data.SepalLengthCm,'sepal-width':data.SepalWidthCm}\n",
        "newdata=pd.DataFrame(d)\n",
        "x_train=data.drop(['Species'],axis=1)\n",
        "y_train=data['Species']"
      ],
      "execution_count": 0,
      "outputs": []
    },
    {
      "cell_type": "code",
      "metadata": {
        "id": "5WdtkzhgTGH1",
        "colab_type": "code",
        "colab": {}
      },
      "source": [
        "from sklearn import preprocessing\n",
        "le = preprocessing.LabelEncoder()\n",
        "le.fit(y_train)\n",
        "y_train=le.transform(y_train)\n",
        "#y_train=le.inverse_transform(y_train)"
      ],
      "execution_count": 0,
      "outputs": []
    },
    {
      "cell_type": "code",
      "metadata": {
        "id": "HMM0lvmsTGH6",
        "colab_type": "code",
        "colab": {},
        "outputId": "371c68fb-9cbc-40f3-8a85-76dcc70a547e"
      },
      "source": [
        "y_train"
      ],
      "execution_count": 0,
      "outputs": [
        {
          "output_type": "execute_result",
          "data": {
            "text/plain": [
              "array([0, 0, 0, 0, 0, 0, 0, 0, 0, 0, 0, 0, 0, 0, 0, 0, 0, 0, 0, 0, 0, 0, 0,\n",
              "       0, 0, 0, 0, 0, 0, 0, 0, 0, 0, 0, 0, 0, 0, 0, 0, 0, 0, 0, 0, 0, 0, 0,\n",
              "       0, 0, 0, 0, 1, 1, 1, 1, 1, 1, 1, 1, 1, 1, 1, 1, 1, 1, 1, 1, 1, 1, 1,\n",
              "       1, 1, 1, 1, 1, 1, 1, 1, 1, 1, 1, 1, 1, 1, 1, 1, 1, 1, 1, 1, 1, 1, 1,\n",
              "       1, 1, 1, 1, 1, 1, 1, 1, 2, 2, 2, 2, 2, 2, 2, 2, 2, 2, 2, 2, 2, 2, 2,\n",
              "       2, 2, 2, 2, 2, 2, 2, 2, 2, 2, 2, 2, 2, 2, 2, 2, 2, 2, 2, 2, 2, 2, 2,\n",
              "       2, 2, 2, 2, 2, 2, 2, 2, 2, 2, 2, 2])"
            ]
          },
          "metadata": {
            "tags": []
          },
          "execution_count": 35
        }
      ]
    },
    {
      "cell_type": "code",
      "metadata": {
        "id": "2rbdOntcTGIA",
        "colab_type": "code",
        "colab": {},
        "outputId": "29a5de96-fa5e-4717-9175-48eb1535762e"
      },
      "source": [
        "knn = KNN(n_neighbors=1)\n",
        "knn.fit(x_train, y_train) "
      ],
      "execution_count": 0,
      "outputs": [
        {
          "output_type": "execute_result",
          "data": {
            "text/plain": [
              "KNeighborsRegressor(algorithm='auto', leaf_size=30, metric='minkowski',\n",
              "          metric_params=None, n_jobs=None, n_neighbors=1, p=2,\n",
              "          weights='uniform')"
            ]
          },
          "metadata": {
            "tags": []
          },
          "execution_count": 36
        }
      ]
    },
    {
      "cell_type": "code",
      "metadata": {
        "id": "wX85n8wdTGIH",
        "colab_type": "code",
        "colab": {}
      },
      "source": [
        "A = knn.predict(x_train)"
      ],
      "execution_count": 0,
      "outputs": []
    },
    {
      "cell_type": "code",
      "metadata": {
        "id": "PO_b7RmoTGIL",
        "colab_type": "code",
        "colab": {},
        "outputId": "00b9a84e-1e74-4789-ac67-85c19a60f1ba"
      },
      "source": [
        "points=[]\n",
        "for i in range(len(data.SepalLengthCm)):\n",
        "    points.append([data.SepalLengthCm[i],data.SepalWidthCm[i]])\n",
        "plt.rcParams[\"figure.figsize\"] = [12,8]\n",
        "vor=Voronoi(points)\n",
        "voronoi_plot_2d(vor,show_vertices=False,c=A ,line_alpha=0.9, line_colors='red',show_points=False)\n",
        "plt.scatter(data.SepalLengthCm,data.SepalWidthCm,c=A, marker='o', cmap='viridis')\n",
        "plt.xlabel(\"SepalLengthCm\")\n",
        "plt.ylabel(\"SepalWidthCm\")\n",
        "plt.show()"
      ],
      "execution_count": 0,
      "outputs": [
        {
          "output_type": "display_data",
          "data": {
            "image/png": "[encoded data removed]",
            "text/plain": [
              "<matplotlib.figure.Figure at 0x7f701cb816d8>"
            ]
          },
          "metadata": {
            "tags": [],
            "needs_background": "light"
          }
        }
      ]
    },
    {
      "cell_type": "markdown",
      "metadata": {
        "id": "SFJdI2NLTGIQ",
        "colab_type": "text"
      },
      "source": [
        "**References:**\n",
        "\n",
        "[1]. https://docs.scipy.org/doc/scipy/reference/generated/scipy.spatial.Voronoi.html\n",
        "\n",
        "[2]. https://machinelearningmastery.com/k-nearest-neighbors-for-machine-learning"
      ]
    }
  ]
}