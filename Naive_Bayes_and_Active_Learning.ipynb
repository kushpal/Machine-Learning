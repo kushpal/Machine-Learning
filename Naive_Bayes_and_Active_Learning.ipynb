{
  "nbformat": 4,
  "nbformat_minor": 0,
  "metadata": {
    "kernelspec": {
      "display_name": "Python 2",
      "language": "python",
      "name": "python2"
    },
    "language_info": {
      "codemirror_mode": {
        "name": "ipython",
        "version": 3
      },
      "file_extension": ".py",
      "mimetype": "text/x-python",
      "name": "python",
      "nbconvert_exporter": "python",
      "pygments_lexer": "ipython3",
      "version": "3.6.7"
    },
    "colab": {
      "name": "Naive Bayes and Active Learning",
      "provenance": [],
      "include_colab_link": true
    }
  },
  "cells": [
    {
      "cell_type": "markdown",
      "metadata": {
        "id": "view-in-github",
        "colab_type": "text"
      },
      "source": [
        "<a href=\"https://colab.research.google.com/github/kushpal/Machine-Learning/blob/master/Naive_Bayes_and_Active_Learning.ipynb\" target=\"_parent\"><img src=\"https://colab.research.google.com/assets/colab-badge.svg\" alt=\"Open In Colab\"/></a>"
      ]
    },
    {
      "cell_type": "markdown",
      "metadata": {
        "id": "o9tx5RFuW5S9",
        "colab_type": "text"
      },
      "source": [
        "---\n",
        "**Implement Gaussian Naive Bayes from scratch without using scikit-learn. For each of the input feature, you have to compute the mean and the variance independently, and then use this information to model the individual probabilities of: P(feature i | class) and P(class). These can then be used to compute P(class | feature 1 ,feature 2 ,...).**\n",
        "\n",
        "<br>\n",
        "\n",
        ">*Show the usage of your implementation on the IRIS dataset. For all our experiments, we will only be making use of sepal-length and petal-width as the two features. First, randomly shuffle the dataset. Then, Use the first 70% of the dataset for training and report the test\n",
        "performance on the remaining 30%.*\n",
        "\n",
        "---"
      ]
    },
    {
      "cell_type": "code",
      "metadata": {
        "id": "-V-dzI_FW5S-",
        "colab_type": "code",
        "colab": {}
      },
      "source": [
        "import numpy as np\n",
        "import pandas as pd\n",
        "\n",
        "\n",
        "\n",
        "def mean(X_train,y_train):\n",
        "    y_train=np.array(y_train)\n",
        "    Mean={}\n",
        "    for i in np.unique(y_train):\n",
        "        for j in X_train:\n",
        "            l=0\n",
        "            mn=0.0\n",
        "            cn=0\n",
        "            for k in X_train[j]:\n",
        "                if i == y_train[l]:\n",
        "                    mn+=k\n",
        "                    cn+=1\n",
        "                l+=1\n",
        "            Mean[i,j]=mn/cn\n",
        "            \n",
        "    return Mean\n",
        "\n",
        "def var(X_train,y_train):\n",
        "    y_train=np.array(y_train)\n",
        "    Var={}\n",
        "    Mean=mean(X_train,y_train)\n",
        "    for i in np.unique(y_train):\n",
        "        for j in X_train:\n",
        "            l=0\n",
        "            mn=0.0\n",
        "            cn=0\n",
        "            for k in X_train[j]:\n",
        "                if i in y_train[l]:\n",
        "                    mn+=(k-Mean[i,j])**2\n",
        "                    cn+=1\n",
        "                l+=1\n",
        "            Var[i,j]=mn/(cn-1)\n",
        "            \n",
        "    return Var\n",
        "\n",
        "## takes argument as dic()\n",
        "def find_max_prob_class(cls):\n",
        "    maxs=-1\n",
        "    for i in cls:\n",
        "        if cls[i]>maxs:\n",
        "            maxs=cls[i]\n",
        "            sk=i\n",
        "    return sk\n",
        "\n",
        "def prediction(X_test,X_train,y_train):\n",
        "    clas_prob={}\n",
        "    cl=0.0\n",
        "    y_pred=[]\n",
        "    classes=find_no_of_individual_class(y_train)\n",
        "    cl_prob=find_class_prob(classes)\n",
        "    Var=var(X_train,y_train)\n",
        "    Mean=mean(X_train,y_train)\n",
        "    for k in range(len(X_test)):\n",
        "        for i in np.unique(y_train):\n",
        "            cl=cl_prob[i]\n",
        "            for j in X_train.columns:\n",
        "                p=X_test[j]\n",
        "                p=np.array(p)\n",
        "                cl*=Gaussion(p[k],Mean[i,j],np.sqrt(Var[i,j]))    \n",
        "            clas_prob[i]=cl  \n",
        "        y_pred.append(find_max_prob_class(clas_prob))\n",
        "        \n",
        "    return y_pred\n",
        "\n",
        "\n",
        "\n",
        "def find_no_of_individual_class(y_train):\n",
        "    y_train=np.array(y_train)\n",
        "    classes={}\n",
        "    for i in np.unique(y_train):\n",
        "        cn=0\n",
        "        for j in y_train:\n",
        "            if i==j:\n",
        "                cn+=1\n",
        "        classes[i]=cn\n",
        "    return classes\n",
        "    \n",
        "def find_class_prob(classes):\n",
        "    prob={}\n",
        "    tot=0.0\n",
        "    for i in classes:\n",
        "        tot+=classes[i]\n",
        "    for i in classes:\n",
        "        prob[i]=classes[i]/tot\n",
        "        \n",
        "    return prob    \n",
        "\n",
        "def Gaussion(x, mean, stdev):\n",
        "    exponent = np.exp(-(np.power(x-mean,2)/(2*np.power(stdev,2))))\n",
        "    return (1 / (np.sqrt(2*np.pi) * stdev)) * exponent\n"
      ],
      "execution_count": 0,
      "outputs": []
    },
    {
      "cell_type": "code",
      "metadata": {
        "id": "L5vjYaR-W5TF",
        "colab_type": "code",
        "colab": {}
      },
      "source": [
        "ds=pd.read_csv(\"iris.csv\")\n",
        "ds=ds.drop(['SepalWidthCm','PetalLengthCm','Id'],axis=1)"
      ],
      "execution_count": 0,
      "outputs": []
    },
    {
      "cell_type": "code",
      "metadata": {
        "id": "CqBftSaSW5TL",
        "colab_type": "code",
        "colab": {}
      },
      "source": [
        "y=ds['Species']\n",
        "X=ds.drop(['Species'],axis=1)"
      ],
      "execution_count": 0,
      "outputs": []
    },
    {
      "cell_type": "code",
      "metadata": {
        "id": "IvApUwCWW5TQ",
        "colab_type": "code",
        "colab": {}
      },
      "source": [
        "from sklearn.model_selection import train_test_split"
      ],
      "execution_count": 0,
      "outputs": []
    },
    {
      "cell_type": "code",
      "metadata": {
        "id": "nKsrCclTW5TV",
        "colab_type": "code",
        "colab": {}
      },
      "source": [
        "X_train, X_test, y_train, y_test = train_test_split(X, y, test_size=0.33, random_state=49)"
      ],
      "execution_count": 0,
      "outputs": []
    },
    {
      "cell_type": "code",
      "metadata": {
        "id": "G4A03ZUEW5Ta",
        "colab_type": "code",
        "colab": {}
      },
      "source": [
        "y_pred_new=prediction(X_test,X_train,y_train)"
      ],
      "execution_count": 0,
      "outputs": []
    },
    {
      "cell_type": "code",
      "metadata": {
        "id": "QUYFs12LW5Tf",
        "colab_type": "code",
        "colab": {},
        "outputId": "093ec3dd-6fd3-40dc-c4c7-066682b89bd7"
      },
      "source": [
        "from sklearn import metrics\n",
        "metrics.accuracy_score(y_pred_new,y_test)"
      ],
      "execution_count": 0,
      "outputs": [
        {
          "output_type": "execute_result",
          "data": {
            "text/plain": [
              "0.95999999999999996"
            ]
          },
          "metadata": {
            "tags": []
          },
          "execution_count": 8
        }
      ]
    },
    {
      "cell_type": "code",
      "metadata": {
        "id": "6iKH9O2CW5To",
        "colab_type": "code",
        "colab": {},
        "outputId": "babecd11-8b32-458a-d9cc-6596b41b977a"
      },
      "source": [
        "#EXAMPLE :\n",
        "    \n",
        " '''   \n",
        "data={'person' : ['male','male','male','male','female','female','female','female'],'height':[6,5.92,5.58,5.92,5,5.5,5.42,5.75]\n",
        "     ,'weight':[180,190,170,165,100,150,130,150],'footsize':[12,11,12,10,6,8,7,9]}\n",
        "\n",
        "fds=pd.DataFrame(data)\n",
        "y_train=fds['person']\n",
        "\n",
        "X_train=fds.drop(['person'],axis=1)\n",
        "newdata={'height':[6],'weight':[130],'footsize':[8]}\n",
        "X_test=pd.DataFrame(newdata)\n",
        "\n",
        "y_pred_new=prediction(X_test,X_train,y_train)\n",
        "from sklearn import metrics\n",
        "metrics.accuracy_score(y_pred_new,y_test) '''"
      ],
      "execution_count": 0,
      "outputs": [
        {
          "output_type": "execute_result",
          "data": {
            "text/plain": [
              "\"   \\n        data={'person' : ['male','male','male','male','female','female','female','female'],'height':[6,5.92,5.58,5.92,5,5.5,5.42,5.75]\\n             ,'weight':[180,190,170,165,100,150,130,150],'footsize':[12,11,12,10,6,8,7,9]}\\n\\n        fds=pd.DataFrame(data)\\n        y_train=fds['person']\\n\\n        X_train=fds.drop(['person'],axis=1)\\n        newdata={'height':[6],'weight':[130],'footsize':[8]}\\n        X_test=pd.DataFrame(newdata)\\n\\n        y_pred_new=prediction(X_test,X_train,y_train)\\n        from sklearn import metrics\\n        metrics.accuracy_score(y_pred_new,y_test) \""
            ]
          },
          "metadata": {
            "tags": []
          },
          "execution_count": 9
        }
      ]
    },
    {
      "cell_type": "markdown",
      "metadata": {
        "id": "BloG7ssyW5Tt",
        "colab_type": "text"
      },
      "source": [
        "<br>\n",
        "\n",
        "---\n",
        "\n",
        "**We will now use active learning to improve the performance of training over the IRIS dataset. We will use the first 10% of the samples of the shuffled IRIS dataset for training set, and the last 30% as the test set. The remaining 60% of the samples will serve as the pool set which we can query to obtain new labeled instances.**\n",
        "\n",
        "---\n",
        "\n",
        "<br>\n"
      ]
    },
    {
      "cell_type": "code",
      "metadata": {
        "id": "qaEzrxSqW5Tu",
        "colab_type": "code",
        "colab": {}
      },
      "source": [
        "X_train, X_test, y_train, y_test = train_test_split(X, y, test_size=0.90, random_state=8)\n",
        "X_test, X_pool, y_test, y_pool = train_test_split(X_test, y_test, test_size=0.60, random_state=8)"
      ],
      "execution_count": 0,
      "outputs": []
    },
    {
      "cell_type": "code",
      "metadata": {
        "id": "Q1U7-wRiW5T1",
        "colab_type": "code",
        "colab": {},
        "outputId": "60c38a5a-d070-4e25-fb7c-46308e1f9104"
      },
      "source": [
        "y_pred_new=prediction(X_test,X_train,y_train)\n",
        "from sklearn import metrics\n",
        "\n",
        "print(metrics.accuracy_score(y_pred_new,y_test))\n"
      ],
      "execution_count": 0,
      "outputs": [
        {
          "output_type": "stream",
          "text": [
            "0.777777777778\n"
          ],
          "name": "stdout"
        }
      ]
    },
    {
      "cell_type": "code",
      "metadata": {
        "id": "lEUu6Go_W5T6",
        "colab_type": "code",
        "colab": {}
      },
      "source": [
        "ele={}\n",
        "k1=0\n",
        "def find_max_prob_class1(cls):\n",
        "    maxs=-1\n",
        "    global k1\n",
        "    k1+=1\n",
        "    for i in cls:\n",
        "        if cls[i]>maxs:\n",
        "            maxs=cls[i]\n",
        "            sk=i\n",
        "    ele[k1,sk]=maxs\n",
        "\n",
        "def active_learning(X_test,X_train,y_train):\n",
        "    clas_prob={}\n",
        "    cl=0.0\n",
        "    y_pred=[]\n",
        "    classes=find_no_of_individual_class(y_train)\n",
        "    cl_prob=find_class_prob(classes)\n",
        "    Var=var(X_train,y_train)\n",
        "    Mean=mean(X_train,y_train)\n",
        "    for k in range(len(X_test)):\n",
        "        for i in np.unique(y_train):\n",
        "            cl=cl_prob[i]\n",
        "            for j in X_train.columns:\n",
        "                p=X_test[j]\n",
        "                p=np.array(p)\n",
        "                cl*=Gaussion(p[k],Mean[i,j],np.sqrt(Var[i,j]))    \n",
        "            clas_prob[i]=cl  \n",
        "        find_max_prob_class1(clas_prob)\n",
        "        "
      ],
      "execution_count": 0,
      "outputs": []
    },
    {
      "cell_type": "code",
      "metadata": {
        "id": "qCG6TZC-W5UB",
        "colab_type": "code",
        "colab": {}
      },
      "source": [
        "def find_key(ele):\n",
        "    maxa=min(ele.values())\n",
        "    mn=1000100100\n",
        "    for i in ele:\n",
        "        if ele.get(i)==maxa:\n",
        "            mn=i\n",
        "    return mn"
      ],
      "execution_count": 0,
      "outputs": []
    },
    {
      "cell_type": "code",
      "metadata": {
        "id": "CtXJco9WW5UH",
        "colab_type": "code",
        "colab": {},
        "outputId": "92fd95a1-404a-499d-8209-7bc27ae58dbb"
      },
      "source": [
        "acc_prev=[]\n",
        "for i in range(15):\n",
        "    ele={}\n",
        "    k1=0\n",
        "    active_learning(X_pool,X_train,y_train)\n",
        "    key=find_key(ele)\n",
        "    row=X_pool.iloc[key[0]-1]\n",
        "    X_pool=X_pool.drop(X_pool.index[key[0]-1])\n",
        "    X_train=X_train.append(row)\n",
        "    y_train.loc[len(y_train)+1000]=y_pool[y_pool.index[key[0]-1]]\n",
        "    y_pool=y_pool.drop(y_pool.index[key[0]-1])\n",
        "    y_pred_new=prediction(X_test,X_train,y_train)\n",
        "    acc=metrics.accuracy_score(y_pred_new,y_test)*100\n",
        "    acc_prev.append(acc)\n",
        "    print(\"ITR :\",i+1,\",  Accuracy : \",acc)\n",
        "    "
      ],
      "execution_count": 0,
      "outputs": [
        {
          "output_type": "stream",
          "text": [
            "ITR : 1 ,  Accuracy :  83.3333333333\n",
            "ITR : 2 ,  Accuracy :  83.3333333333\n",
            "ITR : 3 ,  Accuracy :  83.3333333333\n",
            "ITR : 4 ,  Accuracy :  92.5925925926\n",
            "ITR : 5 ,  Accuracy :  92.5925925926\n",
            "ITR : 6 ,  Accuracy :  92.5925925926\n",
            "ITR : 7 ,  Accuracy :  92.5925925926\n",
            "ITR : 8 ,  Accuracy :  94.4444444444\n",
            "ITR : 9 ,  Accuracy :  94.4444444444\n",
            "ITR : 10 ,  Accuracy :  94.4444444444\n",
            "ITR : 11 ,  Accuracy :  92.5925925926\n",
            "ITR : 12 ,  Accuracy :  92.5925925926\n",
            "ITR : 13 ,  Accuracy :  94.4444444444\n",
            "ITR : 14 ,  Accuracy :  94.4444444444\n",
            "ITR : 15 ,  Accuracy :  94.4444444444\n"
          ],
          "name": "stdout"
        }
      ]
    },
    {
      "cell_type": "markdown",
      "metadata": {
        "id": "v0SmjcmuW5UL",
        "colab_type": "text"
      },
      "source": [
        "<br>\n",
        "\n",
        "---\n",
        ">**(i)**. We will retrain our above Gaussian Naive bayes model on the new train set (consisting of 10% of the\n",
        "samples). As before, we will only be making use of sepal-length and petal-width as the two features.\n",
        "Next, we will do 10 iterations of active learning where we will query on point from the pool set, acquire\n",
        "its labels, add that instance to the train set and remove from the pool set. For each time a new instance is\n",
        "added to the train set, we retrain our model and compute the test accuracy. The querying strategy is to\n",
        "choose the instance with least confidence (Naive Bayes is well suited for this application since it directly\n",
        "gives us the probabilities of different classes given the observed features)**\n",
        "\n",
        "---"
      ]
    },
    {
      "cell_type": "code",
      "metadata": {
        "id": "LejHEeXkW5UM",
        "colab_type": "code",
        "colab": {}
      },
      "source": [
        "from sklearn.datasets import make_blobs\n",
        "import numpy as np\n",
        "import pandas as pd\n",
        "import matplotlib.pyplot as plt\n",
        "import seaborn as sns\n",
        "from sklearn import preprocessing\n",
        "np.random.seed(0)"
      ],
      "execution_count": 0,
      "outputs": []
    },
    {
      "cell_type": "code",
      "metadata": {
        "id": "adYvl4ROW5US",
        "colab_type": "code",
        "colab": {}
      },
      "source": [
        "df=ds\n",
        "df['x']= df['SepalLengthCm']\n",
        "df['y']=df['PetalWidthCm']\n",
        "df['class']=df['Species']\n",
        "df=df.drop(['SepalLengthCm','PetalWidthCm','Species'],axis=1)\n",
        "le = preprocessing.LabelEncoder()\n",
        "le.fit(df['class'])\n",
        "df['class']=le.transform(df['class'])"
      ],
      "execution_count": 0,
      "outputs": []
    },
    {
      "cell_type": "code",
      "metadata": {
        "id": "pWAd4MdCW5UW",
        "colab_type": "code",
        "colab": {},
        "outputId": "efab7072-9688-4eda-c205-5a5d14450c8d"
      },
      "source": [
        "df"
      ],
      "execution_count": 0,
      "outputs": [
        {
          "output_type": "execute_result",
          "data": {
            "text/html": [
              "<div>\n",
              "<style scoped>\n",
              "    .dataframe tbody tr th:only-of-type {\n",
              "        vertical-align: middle;\n",
              "    }\n",
              "\n",
              "    .dataframe tbody tr th {\n",
              "        vertical-align: top;\n",
              "    }\n",
              "\n",
              "    .dataframe thead th {\n",
              "        text-align: right;\n",
              "    }\n",
              "</style>\n",
              "<table border=\"1\" class=\"dataframe\">\n",
              "  <thead>\n",
              "    <tr style=\"text-align: right;\">\n",
              "      <th></th>\n",
              "      <th>x</th>\n",
              "      <th>y</th>\n",
              "      <th>class</th>\n",
              "    </tr>\n",
              "  </thead>\n",
              "  <tbody>\n",
              "    <tr>\n",
              "      <th>0</th>\n",
              "      <td>5.1</td>\n",
              "      <td>0.2</td>\n",
              "      <td>0</td>\n",
              "    </tr>\n",
              "    <tr>\n",
              "      <th>1</th>\n",
              "      <td>4.9</td>\n",
              "      <td>0.2</td>\n",
              "      <td>0</td>\n",
              "    </tr>\n",
              "    <tr>\n",
              "      <th>2</th>\n",
              "      <td>4.7</td>\n",
              "      <td>0.2</td>\n",
              "      <td>0</td>\n",
              "    </tr>\n",
              "    <tr>\n",
              "      <th>3</th>\n",
              "      <td>4.6</td>\n",
              "      <td>0.2</td>\n",
              "      <td>0</td>\n",
              "    </tr>\n",
              "    <tr>\n",
              "      <th>4</th>\n",
              "      <td>5.0</td>\n",
              "      <td>0.2</td>\n",
              "      <td>0</td>\n",
              "    </tr>\n",
              "    <tr>\n",
              "      <th>5</th>\n",
              "      <td>5.4</td>\n",
              "      <td>0.4</td>\n",
              "      <td>0</td>\n",
              "    </tr>\n",
              "    <tr>\n",
              "      <th>6</th>\n",
              "      <td>4.6</td>\n",
              "      <td>0.3</td>\n",
              "      <td>0</td>\n",
              "    </tr>\n",
              "    <tr>\n",
              "      <th>7</th>\n",
              "      <td>5.0</td>\n",
              "      <td>0.2</td>\n",
              "      <td>0</td>\n",
              "    </tr>\n",
              "    <tr>\n",
              "      <th>8</th>\n",
              "      <td>4.4</td>\n",
              "      <td>0.2</td>\n",
              "      <td>0</td>\n",
              "    </tr>\n",
              "    <tr>\n",
              "      <th>9</th>\n",
              "      <td>4.9</td>\n",
              "      <td>0.1</td>\n",
              "      <td>0</td>\n",
              "    </tr>\n",
              "    <tr>\n",
              "      <th>10</th>\n",
              "      <td>5.4</td>\n",
              "      <td>0.2</td>\n",
              "      <td>0</td>\n",
              "    </tr>\n",
              "    <tr>\n",
              "      <th>11</th>\n",
              "      <td>4.8</td>\n",
              "      <td>0.2</td>\n",
              "      <td>0</td>\n",
              "    </tr>\n",
              "    <tr>\n",
              "      <th>12</th>\n",
              "      <td>4.8</td>\n",
              "      <td>0.1</td>\n",
              "      <td>0</td>\n",
              "    </tr>\n",
              "    <tr>\n",
              "      <th>13</th>\n",
              "      <td>4.3</td>\n",
              "      <td>0.1</td>\n",
              "      <td>0</td>\n",
              "    </tr>\n",
              "    <tr>\n",
              "      <th>14</th>\n",
              "      <td>5.8</td>\n",
              "      <td>0.2</td>\n",
              "      <td>0</td>\n",
              "    </tr>\n",
              "    <tr>\n",
              "      <th>15</th>\n",
              "      <td>5.7</td>\n",
              "      <td>0.4</td>\n",
              "      <td>0</td>\n",
              "    </tr>\n",
              "    <tr>\n",
              "      <th>16</th>\n",
              "      <td>5.4</td>\n",
              "      <td>0.4</td>\n",
              "      <td>0</td>\n",
              "    </tr>\n",
              "    <tr>\n",
              "      <th>17</th>\n",
              "      <td>5.1</td>\n",
              "      <td>0.3</td>\n",
              "      <td>0</td>\n",
              "    </tr>\n",
              "    <tr>\n",
              "      <th>18</th>\n",
              "      <td>5.7</td>\n",
              "      <td>0.3</td>\n",
              "      <td>0</td>\n",
              "    </tr>\n",
              "    <tr>\n",
              "      <th>19</th>\n",
              "      <td>5.1</td>\n",
              "      <td>0.3</td>\n",
              "      <td>0</td>\n",
              "    </tr>\n",
              "    <tr>\n",
              "      <th>20</th>\n",
              "      <td>5.4</td>\n",
              "      <td>0.2</td>\n",
              "      <td>0</td>\n",
              "    </tr>\n",
              "    <tr>\n",
              "      <th>21</th>\n",
              "      <td>5.1</td>\n",
              "      <td>0.4</td>\n",
              "      <td>0</td>\n",
              "    </tr>\n",
              "    <tr>\n",
              "      <th>22</th>\n",
              "      <td>4.6</td>\n",
              "      <td>0.2</td>\n",
              "      <td>0</td>\n",
              "    </tr>\n",
              "    <tr>\n",
              "      <th>23</th>\n",
              "      <td>5.1</td>\n",
              "      <td>0.5</td>\n",
              "      <td>0</td>\n",
              "    </tr>\n",
              "    <tr>\n",
              "      <th>24</th>\n",
              "      <td>4.8</td>\n",
              "      <td>0.2</td>\n",
              "      <td>0</td>\n",
              "    </tr>\n",
              "    <tr>\n",
              "      <th>25</th>\n",
              "      <td>5.0</td>\n",
              "      <td>0.2</td>\n",
              "      <td>0</td>\n",
              "    </tr>\n",
              "    <tr>\n",
              "      <th>26</th>\n",
              "      <td>5.0</td>\n",
              "      <td>0.4</td>\n",
              "      <td>0</td>\n",
              "    </tr>\n",
              "    <tr>\n",
              "      <th>27</th>\n",
              "      <td>5.2</td>\n",
              "      <td>0.2</td>\n",
              "      <td>0</td>\n",
              "    </tr>\n",
              "    <tr>\n",
              "      <th>28</th>\n",
              "      <td>5.2</td>\n",
              "      <td>0.2</td>\n",
              "      <td>0</td>\n",
              "    </tr>\n",
              "    <tr>\n",
              "      <th>29</th>\n",
              "      <td>4.7</td>\n",
              "      <td>0.2</td>\n",
              "      <td>0</td>\n",
              "    </tr>\n",
              "    <tr>\n",
              "      <th>...</th>\n",
              "      <td>...</td>\n",
              "      <td>...</td>\n",
              "      <td>...</td>\n",
              "    </tr>\n",
              "    <tr>\n",
              "      <th>120</th>\n",
              "      <td>6.9</td>\n",
              "      <td>2.3</td>\n",
              "      <td>2</td>\n",
              "    </tr>\n",
              "    <tr>\n",
              "      <th>121</th>\n",
              "      <td>5.6</td>\n",
              "      <td>2.0</td>\n",
              "      <td>2</td>\n",
              "    </tr>\n",
              "    <tr>\n",
              "      <th>122</th>\n",
              "      <td>7.7</td>\n",
              "      <td>2.0</td>\n",
              "      <td>2</td>\n",
              "    </tr>\n",
              "    <tr>\n",
              "      <th>123</th>\n",
              "      <td>6.3</td>\n",
              "      <td>1.8</td>\n",
              "      <td>2</td>\n",
              "    </tr>\n",
              "    <tr>\n",
              "      <th>124</th>\n",
              "      <td>6.7</td>\n",
              "      <td>2.1</td>\n",
              "      <td>2</td>\n",
              "    </tr>\n",
              "    <tr>\n",
              "      <th>125</th>\n",
              "      <td>7.2</td>\n",
              "      <td>1.8</td>\n",
              "      <td>2</td>\n",
              "    </tr>\n",
              "    <tr>\n",
              "      <th>126</th>\n",
              "      <td>6.2</td>\n",
              "      <td>1.8</td>\n",
              "      <td>2</td>\n",
              "    </tr>\n",
              "    <tr>\n",
              "      <th>127</th>\n",
              "      <td>6.1</td>\n",
              "      <td>1.8</td>\n",
              "      <td>2</td>\n",
              "    </tr>\n",
              "    <tr>\n",
              "      <th>128</th>\n",
              "      <td>6.4</td>\n",
              "      <td>2.1</td>\n",
              "      <td>2</td>\n",
              "    </tr>\n",
              "    <tr>\n",
              "      <th>129</th>\n",
              "      <td>7.2</td>\n",
              "      <td>1.6</td>\n",
              "      <td>2</td>\n",
              "    </tr>\n",
              "    <tr>\n",
              "      <th>130</th>\n",
              "      <td>7.4</td>\n",
              "      <td>1.9</td>\n",
              "      <td>2</td>\n",
              "    </tr>\n",
              "    <tr>\n",
              "      <th>131</th>\n",
              "      <td>7.9</td>\n",
              "      <td>2.0</td>\n",
              "      <td>2</td>\n",
              "    </tr>\n",
              "    <tr>\n",
              "      <th>132</th>\n",
              "      <td>6.4</td>\n",
              "      <td>2.2</td>\n",
              "      <td>2</td>\n",
              "    </tr>\n",
              "    <tr>\n",
              "      <th>133</th>\n",
              "      <td>6.3</td>\n",
              "      <td>1.5</td>\n",
              "      <td>2</td>\n",
              "    </tr>\n",
              "    <tr>\n",
              "      <th>134</th>\n",
              "      <td>6.1</td>\n",
              "      <td>1.4</td>\n",
              "      <td>2</td>\n",
              "    </tr>\n",
              "    <tr>\n",
              "      <th>135</th>\n",
              "      <td>7.7</td>\n",
              "      <td>2.3</td>\n",
              "      <td>2</td>\n",
              "    </tr>\n",
              "    <tr>\n",
              "      <th>136</th>\n",
              "      <td>6.3</td>\n",
              "      <td>2.4</td>\n",
              "      <td>2</td>\n",
              "    </tr>\n",
              "    <tr>\n",
              "      <th>137</th>\n",
              "      <td>6.4</td>\n",
              "      <td>1.8</td>\n",
              "      <td>2</td>\n",
              "    </tr>\n",
              "    <tr>\n",
              "      <th>138</th>\n",
              "      <td>6.0</td>\n",
              "      <td>1.8</td>\n",
              "      <td>2</td>\n",
              "    </tr>\n",
              "    <tr>\n",
              "      <th>139</th>\n",
              "      <td>6.9</td>\n",
              "      <td>2.1</td>\n",
              "      <td>2</td>\n",
              "    </tr>\n",
              "    <tr>\n",
              "      <th>140</th>\n",
              "      <td>6.7</td>\n",
              "      <td>2.4</td>\n",
              "      <td>2</td>\n",
              "    </tr>\n",
              "    <tr>\n",
              "      <th>141</th>\n",
              "      <td>6.9</td>\n",
              "      <td>2.3</td>\n",
              "      <td>2</td>\n",
              "    </tr>\n",
              "    <tr>\n",
              "      <th>142</th>\n",
              "      <td>5.8</td>\n",
              "      <td>1.9</td>\n",
              "      <td>2</td>\n",
              "    </tr>\n",
              "    <tr>\n",
              "      <th>143</th>\n",
              "      <td>6.8</td>\n",
              "      <td>2.3</td>\n",
              "      <td>2</td>\n",
              "    </tr>\n",
              "    <tr>\n",
              "      <th>144</th>\n",
              "      <td>6.7</td>\n",
              "      <td>2.5</td>\n",
              "      <td>2</td>\n",
              "    </tr>\n",
              "    <tr>\n",
              "      <th>145</th>\n",
              "      <td>6.7</td>\n",
              "      <td>2.3</td>\n",
              "      <td>2</td>\n",
              "    </tr>\n",
              "    <tr>\n",
              "      <th>146</th>\n",
              "      <td>6.3</td>\n",
              "      <td>1.9</td>\n",
              "      <td>2</td>\n",
              "    </tr>\n",
              "    <tr>\n",
              "      <th>147</th>\n",
              "      <td>6.5</td>\n",
              "      <td>2.0</td>\n",
              "      <td>2</td>\n",
              "    </tr>\n",
              "    <tr>\n",
              "      <th>148</th>\n",
              "      <td>6.2</td>\n",
              "      <td>2.3</td>\n",
              "      <td>2</td>\n",
              "    </tr>\n",
              "    <tr>\n",
              "      <th>149</th>\n",
              "      <td>5.9</td>\n",
              "      <td>1.8</td>\n",
              "      <td>2</td>\n",
              "    </tr>\n",
              "  </tbody>\n",
              "</table>\n",
              "<p>150 rows × 3 columns</p>\n",
              "</div>"
            ],
            "text/plain": [
              "       x    y  class\n",
              "0    5.1  0.2      0\n",
              "1    4.9  0.2      0\n",
              "2    4.7  0.2      0\n",
              "3    4.6  0.2      0\n",
              "4    5.0  0.2      0\n",
              "5    5.4  0.4      0\n",
              "6    4.6  0.3      0\n",
              "7    5.0  0.2      0\n",
              "8    4.4  0.2      0\n",
              "9    4.9  0.1      0\n",
              "10   5.4  0.2      0\n",
              "11   4.8  0.2      0\n",
              "12   4.8  0.1      0\n",
              "13   4.3  0.1      0\n",
              "14   5.8  0.2      0\n",
              "15   5.7  0.4      0\n",
              "16   5.4  0.4      0\n",
              "17   5.1  0.3      0\n",
              "18   5.7  0.3      0\n",
              "19   5.1  0.3      0\n",
              "20   5.4  0.2      0\n",
              "21   5.1  0.4      0\n",
              "22   4.6  0.2      0\n",
              "23   5.1  0.5      0\n",
              "24   4.8  0.2      0\n",
              "25   5.0  0.2      0\n",
              "26   5.0  0.4      0\n",
              "27   5.2  0.2      0\n",
              "28   5.2  0.2      0\n",
              "29   4.7  0.2      0\n",
              "..   ...  ...    ...\n",
              "120  6.9  2.3      2\n",
              "121  5.6  2.0      2\n",
              "122  7.7  2.0      2\n",
              "123  6.3  1.8      2\n",
              "124  6.7  2.1      2\n",
              "125  7.2  1.8      2\n",
              "126  6.2  1.8      2\n",
              "127  6.1  1.8      2\n",
              "128  6.4  2.1      2\n",
              "129  7.2  1.6      2\n",
              "130  7.4  1.9      2\n",
              "131  7.9  2.0      2\n",
              "132  6.4  2.2      2\n",
              "133  6.3  1.5      2\n",
              "134  6.1  1.4      2\n",
              "135  7.7  2.3      2\n",
              "136  6.3  2.4      2\n",
              "137  6.4  1.8      2\n",
              "138  6.0  1.8      2\n",
              "139  6.9  2.1      2\n",
              "140  6.7  2.4      2\n",
              "141  6.9  2.3      2\n",
              "142  5.8  1.9      2\n",
              "143  6.8  2.3      2\n",
              "144  6.7  2.5      2\n",
              "145  6.7  2.3      2\n",
              "146  6.3  1.9      2\n",
              "147  6.5  2.0      2\n",
              "148  6.2  2.3      2\n",
              "149  5.9  1.8      2\n",
              "\n",
              "[150 rows x 3 columns]"
            ]
          },
          "metadata": {
            "tags": []
          },
          "execution_count": 33
        }
      ]
    },
    {
      "cell_type": "code",
      "metadata": {
        "id": "iizDeIX8W5Ub",
        "colab_type": "code",
        "colab": {}
      },
      "source": [
        "dataset_train = df.sample(n=15, random_state=0)"
      ],
      "execution_count": 0,
      "outputs": []
    },
    {
      "cell_type": "code",
      "metadata": {
        "id": "cQazXqQRW5Uh",
        "colab_type": "code",
        "colab": {}
      },
      "source": [
        "from sklearn.naive_bayes import GaussianNB as GNB\n",
        "l=GNB()"
      ],
      "execution_count": 0,
      "outputs": []
    },
    {
      "cell_type": "code",
      "metadata": {
        "id": "DrlCNSaMW5Ul",
        "colab_type": "code",
        "colab": {},
        "outputId": "4e6a4649-e80b-4498-b42f-4da5ffbb1066"
      },
      "source": [
        "l.fit(dataset_train[['x','y']], dataset_train['class'])"
      ],
      "execution_count": 0,
      "outputs": [
        {
          "output_type": "execute_result",
          "data": {
            "text/plain": [
              "GaussianNB(priors=None, var_smoothing=1e-09)"
            ]
          },
          "metadata": {
            "tags": []
          },
          "execution_count": 493
        }
      ]
    },
    {
      "cell_type": "code",
      "metadata": {
        "id": "Ib7atJZ_W5Up",
        "colab_type": "code",
        "colab": {}
      },
      "source": [
        "x_min, x_max = df['x'].values.min() - .5, df['x'].max() + .5\n",
        "y_min, y_max = df['y'].min() - .5, df['y'].max() + .5\n",
        "h = 0.1  # step size in the mesh\n",
        "xx, yy = np.meshgrid(np.arange(x_min, x_max, h), np.arange(y_min, y_max, h))\n",
        "Z = l.predict(np.c_[xx.ravel(), yy.ravel()])\n",
        "\n",
        "# Put the result into a color plot\n",
        "Z = Z.reshape(xx.shape)\n",
        "source = pd.DataFrame({'x': xx.ravel(),\n",
        "                     'y': yy.ravel(),\n",
        "                     'z': Z.ravel()})"
      ],
      "execution_count": 0,
      "outputs": []
    },
    {
      "cell_type": "code",
      "metadata": {
        "id": "uetlhl0_W5Ut",
        "colab_type": "code",
        "colab": {},
        "outputId": "24c6f764-6198-46e3-e128-e1ec7e81aa6d"
      },
      "source": [
        "plt.scatter(df['x'], df['y'], c= df['class'], alpha=0.4, cmap=plt.cm.Paired, edgecolors='g', s=50 )\n",
        "plt.scatter(dataset_train['x'], dataset_train['y'], c= dataset_train['class'], \n",
        "            edgecolors='k', s=300, cmap=plt.cm.Paired )\n",
        "\n",
        "\n",
        "plt.pcolormesh(xx, yy, Z, cmap=plt.cm.Paired, alpha=0.4)"
      ],
      "execution_count": 0,
      "outputs": [
        {
          "output_type": "execute_result",
          "data": {
            "text/plain": [
              "<matplotlib.collections.QuadMesh at 0x7f4b34d0cc88>"
            ]
          },
          "metadata": {
            "tags": []
          },
          "execution_count": 525
        },
        {
          "output_type": "display_data",
          "data": {
            "image/png": "[encoded data removed]",
            "text/plain": [
              "<matplotlib.figure.Figure at 0x7f4b33346cc0>"
            ]
          },
          "metadata": {
            "tags": [],
            "needs_background": "light"
          }
        }
      ]
    },
    {
      "cell_type": "code",
      "metadata": {
        "id": "eL2yBgh3W5Ux",
        "colab_type": "code",
        "colab": {},
        "outputId": "b7f195c4-361b-482a-d8ad-03665c68b89e"
      },
      "source": [
        "least_confident_ix = pd.DataFrame(l.predict_proba(df[['x','y']])).max(axis=1).idxmin()\n",
        "least_confident_ix"
      ],
      "execution_count": 0,
      "outputs": [
        {
          "output_type": "execute_result",
          "data": {
            "text/plain": [
              "77"
            ]
          },
          "metadata": {
            "tags": []
          },
          "execution_count": 502
        }
      ]
    },
    {
      "cell_type": "code",
      "metadata": {
        "id": "UbW_wGTTW5U2",
        "colab_type": "code",
        "colab": {},
        "outputId": "49038a2b-ccc5-47a9-a984-7a72bdb8eb50"
      },
      "source": [
        "plt.scatter(df['x'], df['y'], c= df['class'], alpha=0.4, cmap=plt.cm.Paired, edgecolors='g', s=50 )\n",
        "plt.scatter(dataset_train['x'], dataset_train['y'], c= dataset_train['class'], \n",
        "            edgecolors='k', s=300, cmap=plt.cm.Paired )\n",
        "plt.pcolormesh(xx, yy, Z, cmap=plt.cm.Paired, alpha=0.2)\n",
        "plt.scatter(df.iloc[least_confident_ix]['x'], df.iloc[least_confident_ix]['y'], c= 'k', \n",
        "            edgecolors='k', s=800, cmap=plt.cm.Paired )"
      ],
      "execution_count": 0,
      "outputs": [
        {
          "output_type": "execute_result",
          "data": {
            "text/plain": [
              "<matplotlib.collections.PathCollection at 0x7f4b33a76470>"
            ]
          },
          "metadata": {
            "tags": []
          },
          "execution_count": 504
        },
        {
          "output_type": "display_data",
          "data": {
            "image/png": "[encoded data removed]",
            "text/plain": [
              "<matplotlib.figure.Figure at 0x7f4b336cc588>"
            ]
          },
          "metadata": {
            "tags": [],
            "needs_background": "light"
          }
        }
      ]
    },
    {
      "cell_type": "code",
      "metadata": {
        "id": "Yx5B4bzBW5U6",
        "colab_type": "code",
        "colab": {},
        "outputId": "56e4b203-0a9a-46a5-9ff0-39f90a8fcb42"
      },
      "source": [
        "new_dataset_train = dataset_train.append(df.iloc[least_confident_ix])\n",
        "new_dataset_train"
      ],
      "execution_count": 0,
      "outputs": [
        {
          "output_type": "execute_result",
          "data": {
            "text/html": [
              "<div>\n",
              "<style scoped>\n",
              "    .dataframe tbody tr th:only-of-type {\n",
              "        vertical-align: middle;\n",
              "    }\n",
              "\n",
              "    .dataframe tbody tr th {\n",
              "        vertical-align: top;\n",
              "    }\n",
              "\n",
              "    .dataframe thead th {\n",
              "        text-align: right;\n",
              "    }\n",
              "</style>\n",
              "<table border=\"1\" class=\"dataframe\">\n",
              "  <thead>\n",
              "    <tr style=\"text-align: right;\">\n",
              "      <th></th>\n",
              "      <th>x</th>\n",
              "      <th>y</th>\n",
              "      <th>class</th>\n",
              "    </tr>\n",
              "  </thead>\n",
              "  <tbody>\n",
              "    <tr>\n",
              "      <th>114</th>\n",
              "      <td>5.8</td>\n",
              "      <td>2.4</td>\n",
              "      <td>2.0</td>\n",
              "    </tr>\n",
              "    <tr>\n",
              "      <th>62</th>\n",
              "      <td>6.0</td>\n",
              "      <td>1.0</td>\n",
              "      <td>1.0</td>\n",
              "    </tr>\n",
              "    <tr>\n",
              "      <th>33</th>\n",
              "      <td>5.5</td>\n",
              "      <td>0.2</td>\n",
              "      <td>0.0</td>\n",
              "    </tr>\n",
              "    <tr>\n",
              "      <th>107</th>\n",
              "      <td>7.3</td>\n",
              "      <td>1.8</td>\n",
              "      <td>2.0</td>\n",
              "    </tr>\n",
              "    <tr>\n",
              "      <th>7</th>\n",
              "      <td>5.0</td>\n",
              "      <td>0.2</td>\n",
              "      <td>0.0</td>\n",
              "    </tr>\n",
              "    <tr>\n",
              "      <th>100</th>\n",
              "      <td>6.3</td>\n",
              "      <td>2.5</td>\n",
              "      <td>2.0</td>\n",
              "    </tr>\n",
              "    <tr>\n",
              "      <th>40</th>\n",
              "      <td>5.0</td>\n",
              "      <td>0.3</td>\n",
              "      <td>0.0</td>\n",
              "    </tr>\n",
              "    <tr>\n",
              "      <th>86</th>\n",
              "      <td>6.7</td>\n",
              "      <td>1.5</td>\n",
              "      <td>1.0</td>\n",
              "    </tr>\n",
              "    <tr>\n",
              "      <th>76</th>\n",
              "      <td>6.8</td>\n",
              "      <td>1.4</td>\n",
              "      <td>1.0</td>\n",
              "    </tr>\n",
              "    <tr>\n",
              "      <th>71</th>\n",
              "      <td>6.1</td>\n",
              "      <td>1.3</td>\n",
              "      <td>1.0</td>\n",
              "    </tr>\n",
              "    <tr>\n",
              "      <th>134</th>\n",
              "      <td>6.1</td>\n",
              "      <td>1.4</td>\n",
              "      <td>2.0</td>\n",
              "    </tr>\n",
              "    <tr>\n",
              "      <th>51</th>\n",
              "      <td>6.4</td>\n",
              "      <td>1.5</td>\n",
              "      <td>1.0</td>\n",
              "    </tr>\n",
              "    <tr>\n",
              "      <th>73</th>\n",
              "      <td>6.1</td>\n",
              "      <td>1.2</td>\n",
              "      <td>1.0</td>\n",
              "    </tr>\n",
              "    <tr>\n",
              "      <th>54</th>\n",
              "      <td>6.5</td>\n",
              "      <td>1.5</td>\n",
              "      <td>1.0</td>\n",
              "    </tr>\n",
              "    <tr>\n",
              "      <th>63</th>\n",
              "      <td>6.1</td>\n",
              "      <td>1.4</td>\n",
              "      <td>1.0</td>\n",
              "    </tr>\n",
              "    <tr>\n",
              "      <th>77</th>\n",
              "      <td>6.7</td>\n",
              "      <td>1.7</td>\n",
              "      <td>1.0</td>\n",
              "    </tr>\n",
              "  </tbody>\n",
              "</table>\n",
              "</div>"
            ],
            "text/plain": [
              "       x    y  class\n",
              "114  5.8  2.4    2.0\n",
              "62   6.0  1.0    1.0\n",
              "33   5.5  0.2    0.0\n",
              "107  7.3  1.8    2.0\n",
              "7    5.0  0.2    0.0\n",
              "100  6.3  2.5    2.0\n",
              "40   5.0  0.3    0.0\n",
              "86   6.7  1.5    1.0\n",
              "76   6.8  1.4    1.0\n",
              "71   6.1  1.3    1.0\n",
              "134  6.1  1.4    2.0\n",
              "51   6.4  1.5    1.0\n",
              "73   6.1  1.2    1.0\n",
              "54   6.5  1.5    1.0\n",
              "63   6.1  1.4    1.0\n",
              "77   6.7  1.7    1.0"
            ]
          },
          "metadata": {
            "tags": []
          },
          "execution_count": 505
        }
      ]
    },
    {
      "cell_type": "code",
      "metadata": {
        "id": "0vCg8Ra3W5U-",
        "colab_type": "code",
        "colab": {}
      },
      "source": [
        "l = GNB()\n",
        "l.fit(new_dataset_train[['x','y']], new_dataset_train['class'])\n",
        "x_min, x_max = df['x'].values.min() - .5, df['x'].max() + .5\n",
        "y_min, y_max = df['y'].min() - .5, df['y'].max() + .5\n",
        "h = 0.1  # step size in the mesh\n",
        "xx, yy = np.meshgrid(np.arange(x_min, x_max, h), np.arange(y_min, y_max, h))\n",
        "Z = l.predict(np.c_[xx.ravel(), yy.ravel()])\n",
        "\n",
        "# Put the result into a color plot\n",
        "Z = Z.reshape(xx.shape)"
      ],
      "execution_count": 0,
      "outputs": []
    },
    {
      "cell_type": "code",
      "metadata": {
        "id": "AXZETO0jW5VF",
        "colab_type": "code",
        "colab": {},
        "outputId": "0b82031b-5a38-4e84-da6a-830cfb353560"
      },
      "source": [
        "plt.scatter(df['x'], df['y'], c= df['class'], alpha=0.4, cmap=plt.cm.Paired, edgecolors='grey', s=50 )\n",
        "plt.scatter(new_dataset_train['x'], new_dataset_train['y'], c= new_dataset_train['class'], \n",
        "            edgecolors='k', s=300, cmap=plt.cm.Paired )\n",
        "plt.pcolormesh(xx, yy, Z, cmap=plt.cm.Paired, alpha=0.2)"
      ],
      "execution_count": 0,
      "outputs": [
        {
          "output_type": "execute_result",
          "data": {
            "text/plain": [
              "<matplotlib.collections.QuadMesh at 0x7f4b3371a320>"
            ]
          },
          "metadata": {
            "tags": []
          },
          "execution_count": 507
        },
        {
          "output_type": "display_data",
          "data": {
            "image/png": "[encoded data removed]",
            "text/plain": [
              "<matplotlib.figure.Figure at 0x7f4b337e3f28>"
            ]
          },
          "metadata": {
            "tags": [],
            "needs_background": "light"
          }
        }
      ]
    },
    {
      "cell_type": "code",
      "metadata": {
        "id": "HSLCFJroW5VK",
        "colab_type": "code",
        "colab": {},
        "outputId": "3a301bfa-9cd9-4a5f-c29e-8b54a59e671e"
      },
      "source": [
        "least_confident_ix = pd.DataFrame(l.predict_proba(df[['x','y']])).max(axis=1).idxmin()\n",
        "least_confident_ix"
      ],
      "execution_count": 0,
      "outputs": [
        {
          "output_type": "execute_result",
          "data": {
            "text/plain": [
              "126"
            ]
          },
          "metadata": {
            "tags": []
          },
          "execution_count": 508
        }
      ]
    },
    {
      "cell_type": "code",
      "metadata": {
        "id": "L1JRwwFeW5VR",
        "colab_type": "code",
        "colab": {},
        "outputId": "e8332e82-7530-47d6-a7ff-db2138d6031b"
      },
      "source": [
        "df.iloc[least_confident_ix]['class']"
      ],
      "execution_count": 0,
      "outputs": [
        {
          "output_type": "execute_result",
          "data": {
            "text/plain": [
              "2.0"
            ]
          },
          "metadata": {
            "tags": []
          },
          "execution_count": 509
        }
      ]
    },
    {
      "cell_type": "code",
      "metadata": {
        "id": "nU8l8lNXW5VU",
        "colab_type": "code",
        "colab": {},
        "outputId": "e977ff6d-5acc-4266-92de-ecf3c1965db6"
      },
      "source": [
        "plt.scatter(df['x'], df['y'], c= df['class'], alpha=0.4, cmap=plt.cm.Paired, edgecolors='grey', s=50 )\n",
        "plt.scatter(new_dataset_train['x'], new_dataset_train['y'], c= new_dataset_train['class'], \n",
        "            edgecolors='k', s=300, cmap=plt.cm.Paired )\n",
        "plt.pcolormesh(xx, yy, Z, cmap=plt.cm.Paired, alpha=0.2)\n",
        "plt.scatter(df.iloc[least_confident_ix]['x'], df.iloc[least_confident_ix]['y'], c= 'k', \n",
        "            edgecolors='k', s=800, cmap=plt.cm.Paired )"
      ],
      "execution_count": 0,
      "outputs": [
        {
          "output_type": "execute_result",
          "data": {
            "text/plain": [
              "<matplotlib.collections.PathCollection at 0x7f4b34f50048>"
            ]
          },
          "metadata": {
            "tags": []
          },
          "execution_count": 510
        },
        {
          "output_type": "display_data",
          "data": {
            "image/png": "[encoded data removed]",
            "text/plain": [
              "<matplotlib.figure.Figure at 0x7f4b336882b0>"
            ]
          },
          "metadata": {
            "tags": [],
            "needs_background": "light"
          }
        }
      ]
    },
    {
      "cell_type": "code",
      "metadata": {
        "id": "dYrfgfRHW5Va",
        "colab_type": "code",
        "colab": {},
        "outputId": "8b8f567a-155f-474d-c4b4-7bced2498a65"
      },
      "source": [
        "new_dataset_train = new_dataset_train.append(df.iloc[least_confident_ix])\n",
        "new_dataset_train"
      ],
      "execution_count": 0,
      "outputs": [
        {
          "output_type": "execute_result",
          "data": {
            "text/html": [
              "<div>\n",
              "<style scoped>\n",
              "    .dataframe tbody tr th:only-of-type {\n",
              "        vertical-align: middle;\n",
              "    }\n",
              "\n",
              "    .dataframe tbody tr th {\n",
              "        vertical-align: top;\n",
              "    }\n",
              "\n",
              "    .dataframe thead th {\n",
              "        text-align: right;\n",
              "    }\n",
              "</style>\n",
              "<table border=\"1\" class=\"dataframe\">\n",
              "  <thead>\n",
              "    <tr style=\"text-align: right;\">\n",
              "      <th></th>\n",
              "      <th>x</th>\n",
              "      <th>y</th>\n",
              "      <th>class</th>\n",
              "    </tr>\n",
              "  </thead>\n",
              "  <tbody>\n",
              "    <tr>\n",
              "      <th>114</th>\n",
              "      <td>5.8</td>\n",
              "      <td>2.4</td>\n",
              "      <td>2.0</td>\n",
              "    </tr>\n",
              "    <tr>\n",
              "      <th>62</th>\n",
              "      <td>6.0</td>\n",
              "      <td>1.0</td>\n",
              "      <td>1.0</td>\n",
              "    </tr>\n",
              "    <tr>\n",
              "      <th>33</th>\n",
              "      <td>5.5</td>\n",
              "      <td>0.2</td>\n",
              "      <td>0.0</td>\n",
              "    </tr>\n",
              "    <tr>\n",
              "      <th>107</th>\n",
              "      <td>7.3</td>\n",
              "      <td>1.8</td>\n",
              "      <td>2.0</td>\n",
              "    </tr>\n",
              "    <tr>\n",
              "      <th>7</th>\n",
              "      <td>5.0</td>\n",
              "      <td>0.2</td>\n",
              "      <td>0.0</td>\n",
              "    </tr>\n",
              "    <tr>\n",
              "      <th>100</th>\n",
              "      <td>6.3</td>\n",
              "      <td>2.5</td>\n",
              "      <td>2.0</td>\n",
              "    </tr>\n",
              "    <tr>\n",
              "      <th>40</th>\n",
              "      <td>5.0</td>\n",
              "      <td>0.3</td>\n",
              "      <td>0.0</td>\n",
              "    </tr>\n",
              "    <tr>\n",
              "      <th>86</th>\n",
              "      <td>6.7</td>\n",
              "      <td>1.5</td>\n",
              "      <td>1.0</td>\n",
              "    </tr>\n",
              "    <tr>\n",
              "      <th>76</th>\n",
              "      <td>6.8</td>\n",
              "      <td>1.4</td>\n",
              "      <td>1.0</td>\n",
              "    </tr>\n",
              "    <tr>\n",
              "      <th>71</th>\n",
              "      <td>6.1</td>\n",
              "      <td>1.3</td>\n",
              "      <td>1.0</td>\n",
              "    </tr>\n",
              "    <tr>\n",
              "      <th>134</th>\n",
              "      <td>6.1</td>\n",
              "      <td>1.4</td>\n",
              "      <td>2.0</td>\n",
              "    </tr>\n",
              "    <tr>\n",
              "      <th>51</th>\n",
              "      <td>6.4</td>\n",
              "      <td>1.5</td>\n",
              "      <td>1.0</td>\n",
              "    </tr>\n",
              "    <tr>\n",
              "      <th>73</th>\n",
              "      <td>6.1</td>\n",
              "      <td>1.2</td>\n",
              "      <td>1.0</td>\n",
              "    </tr>\n",
              "    <tr>\n",
              "      <th>54</th>\n",
              "      <td>6.5</td>\n",
              "      <td>1.5</td>\n",
              "      <td>1.0</td>\n",
              "    </tr>\n",
              "    <tr>\n",
              "      <th>63</th>\n",
              "      <td>6.1</td>\n",
              "      <td>1.4</td>\n",
              "      <td>1.0</td>\n",
              "    </tr>\n",
              "    <tr>\n",
              "      <th>77</th>\n",
              "      <td>6.7</td>\n",
              "      <td>1.7</td>\n",
              "      <td>1.0</td>\n",
              "    </tr>\n",
              "    <tr>\n",
              "      <th>126</th>\n",
              "      <td>6.2</td>\n",
              "      <td>1.8</td>\n",
              "      <td>2.0</td>\n",
              "    </tr>\n",
              "  </tbody>\n",
              "</table>\n",
              "</div>"
            ],
            "text/plain": [
              "       x    y  class\n",
              "114  5.8  2.4    2.0\n",
              "62   6.0  1.0    1.0\n",
              "33   5.5  0.2    0.0\n",
              "107  7.3  1.8    2.0\n",
              "7    5.0  0.2    0.0\n",
              "100  6.3  2.5    2.0\n",
              "40   5.0  0.3    0.0\n",
              "86   6.7  1.5    1.0\n",
              "76   6.8  1.4    1.0\n",
              "71   6.1  1.3    1.0\n",
              "134  6.1  1.4    2.0\n",
              "51   6.4  1.5    1.0\n",
              "73   6.1  1.2    1.0\n",
              "54   6.5  1.5    1.0\n",
              "63   6.1  1.4    1.0\n",
              "77   6.7  1.7    1.0\n",
              "126  6.2  1.8    2.0"
            ]
          },
          "metadata": {
            "tags": []
          },
          "execution_count": 511
        }
      ]
    },
    {
      "cell_type": "code",
      "metadata": {
        "id": "gQ7pHrvUW5Vf",
        "colab_type": "code",
        "colab": {}
      },
      "source": [
        "l = GNB()\n",
        "l.fit(new_dataset_train[['x','y']], new_dataset_train['class'])\n",
        "x_min, x_max = df['x'].values.min() - .5, df['x'].max() + .5\n",
        "y_min, y_max = df['y'].min() - .5, df['y'].max() + .5\n",
        "h = 0.1  # step size in the mesh\n",
        "xx, yy = np.meshgrid(np.arange(x_min, x_max, h), np.arange(y_min, y_max, h))\n",
        "Z = l.predict(np.c_[xx.ravel(), yy.ravel()])\n",
        "\n",
        "# Put the result into a color plot\n",
        "Z = Z.reshape(xx.shape)"
      ],
      "execution_count": 0,
      "outputs": []
    },
    {
      "cell_type": "code",
      "metadata": {
        "id": "8XhOrdwjW5Vj",
        "colab_type": "code",
        "colab": {},
        "outputId": "cd1e2612-cd10-4ab7-f967-4c22edbb5ff5"
      },
      "source": [
        "plt.scatter(df['x'], df['y'], c= df['class'], alpha=0.4, cmap=plt.cm.Paired, edgecolors='grey', s=50 )\n",
        "plt.scatter(new_dataset_train['x'], new_dataset_train['y'], c= new_dataset_train['class'], \n",
        "            edgecolors='k', s=300, cmap=plt.cm.Paired )\n",
        "plt.pcolormesh(xx, yy, Z, cmap=plt.cm.Paired, alpha=0.2)"
      ],
      "execution_count": 0,
      "outputs": [
        {
          "output_type": "execute_result",
          "data": {
            "text/plain": [
              "<matplotlib.collections.QuadMesh at 0x7f4b33d49e80>"
            ]
          },
          "metadata": {
            "tags": []
          },
          "execution_count": 513
        },
        {
          "output_type": "display_data",
          "data": {
            "image/png": "[encoded data removed]",
            "text/plain": [
              "<matplotlib.figure.Figure at 0x7f4b33d6e400>"
            ]
          },
          "metadata": {
            "tags": [],
            "needs_background": "light"
          }
        }
      ]
    },
    {
      "cell_type": "code",
      "metadata": {
        "id": "UHQUTDevW5Vm",
        "colab_type": "code",
        "colab": {},
        "outputId": "2e827435-127e-4f0b-8126-2e8c99a901a2"
      },
      "source": [
        "least_confident_ix = pd.DataFrame(l.predict_proba(df[['x','y']])).max(axis=1).idxmin()\n",
        "least_confident_ix"
      ],
      "execution_count": 0,
      "outputs": [
        {
          "output_type": "execute_result",
          "data": {
            "text/plain": [
              "66"
            ]
          },
          "metadata": {
            "tags": []
          },
          "execution_count": 514
        }
      ]
    },
    {
      "cell_type": "code",
      "metadata": {
        "id": "N134fnQBW5Vq",
        "colab_type": "code",
        "colab": {},
        "outputId": "178c905d-40d6-4c33-d26c-db6ab83529d0"
      },
      "source": [
        "df.iloc[least_confident_ix]['class']"
      ],
      "execution_count": 0,
      "outputs": [
        {
          "output_type": "execute_result",
          "data": {
            "text/plain": [
              "1.0"
            ]
          },
          "metadata": {
            "tags": []
          },
          "execution_count": 515
        }
      ]
    },
    {
      "cell_type": "code",
      "metadata": {
        "id": "GB7F25UnW5Vv",
        "colab_type": "code",
        "colab": {},
        "outputId": "4547efc6-f6ff-499b-ebf9-46b2528da5b5"
      },
      "source": [
        "plt.scatter(df['x'], df['y'], c= df['class'], alpha=0.4, cmap=plt.cm.Paired, edgecolors='grey', s=50 )\n",
        "plt.scatter(dataset_train['x'], dataset_train['y'], c= dataset_train['class'], \n",
        "            edgecolors='k', s=300, cmap=plt.cm.Paired )\n",
        "plt.pcolormesh(xx, yy, Z, cmap=plt.cm.Paired, alpha=0.2)\n",
        "plt.scatter(df.iloc[least_confident_ix]['x'], df.iloc[least_confident_ix]['y'], c= 'k', \n",
        "            edgecolors='k', s=800, cmap=plt.cm.Paired )"
      ],
      "execution_count": 0,
      "outputs": [
        {
          "output_type": "execute_result",
          "data": {
            "text/plain": [
              "<matplotlib.collections.PathCollection at 0x7f4b338acb70>"
            ]
          },
          "metadata": {
            "tags": []
          },
          "execution_count": 516
        },
        {
          "output_type": "display_data",
          "data": {
            "image/png": "[encoded data removed]",
            "text/plain": [
              "<matplotlib.figure.Figure at 0x7f4b3344b780>"
            ]
          },
          "metadata": {
            "tags": [],
            "needs_background": "light"
          }
        }
      ]
    },
    {
      "cell_type": "code",
      "metadata": {
        "id": "poKi3-8RW5V0",
        "colab_type": "code",
        "colab": {},
        "outputId": "9eaaab62-cf8b-4630-d2c6-54fc25e3702a"
      },
      "source": [
        "new_dataset_train = new_dataset_train.append(df.iloc[least_confident_ix])\n",
        "new_dataset_train"
      ],
      "execution_count": 0,
      "outputs": [
        {
          "output_type": "execute_result",
          "data": {
            "text/html": [
              "<div>\n",
              "<style scoped>\n",
              "    .dataframe tbody tr th:only-of-type {\n",
              "        vertical-align: middle;\n",
              "    }\n",
              "\n",
              "    .dataframe tbody tr th {\n",
              "        vertical-align: top;\n",
              "    }\n",
              "\n",
              "    .dataframe thead th {\n",
              "        text-align: right;\n",
              "    }\n",
              "</style>\n",
              "<table border=\"1\" class=\"dataframe\">\n",
              "  <thead>\n",
              "    <tr style=\"text-align: right;\">\n",
              "      <th></th>\n",
              "      <th>x</th>\n",
              "      <th>y</th>\n",
              "      <th>class</th>\n",
              "    </tr>\n",
              "  </thead>\n",
              "  <tbody>\n",
              "    <tr>\n",
              "      <th>114</th>\n",
              "      <td>5.8</td>\n",
              "      <td>2.4</td>\n",
              "      <td>2.0</td>\n",
              "    </tr>\n",
              "    <tr>\n",
              "      <th>62</th>\n",
              "      <td>6.0</td>\n",
              "      <td>1.0</td>\n",
              "      <td>1.0</td>\n",
              "    </tr>\n",
              "    <tr>\n",
              "      <th>33</th>\n",
              "      <td>5.5</td>\n",
              "      <td>0.2</td>\n",
              "      <td>0.0</td>\n",
              "    </tr>\n",
              "    <tr>\n",
              "      <th>107</th>\n",
              "      <td>7.3</td>\n",
              "      <td>1.8</td>\n",
              "      <td>2.0</td>\n",
              "    </tr>\n",
              "    <tr>\n",
              "      <th>7</th>\n",
              "      <td>5.0</td>\n",
              "      <td>0.2</td>\n",
              "      <td>0.0</td>\n",
              "    </tr>\n",
              "    <tr>\n",
              "      <th>100</th>\n",
              "      <td>6.3</td>\n",
              "      <td>2.5</td>\n",
              "      <td>2.0</td>\n",
              "    </tr>\n",
              "    <tr>\n",
              "      <th>40</th>\n",
              "      <td>5.0</td>\n",
              "      <td>0.3</td>\n",
              "      <td>0.0</td>\n",
              "    </tr>\n",
              "    <tr>\n",
              "      <th>86</th>\n",
              "      <td>6.7</td>\n",
              "      <td>1.5</td>\n",
              "      <td>1.0</td>\n",
              "    </tr>\n",
              "    <tr>\n",
              "      <th>76</th>\n",
              "      <td>6.8</td>\n",
              "      <td>1.4</td>\n",
              "      <td>1.0</td>\n",
              "    </tr>\n",
              "    <tr>\n",
              "      <th>71</th>\n",
              "      <td>6.1</td>\n",
              "      <td>1.3</td>\n",
              "      <td>1.0</td>\n",
              "    </tr>\n",
              "    <tr>\n",
              "      <th>134</th>\n",
              "      <td>6.1</td>\n",
              "      <td>1.4</td>\n",
              "      <td>2.0</td>\n",
              "    </tr>\n",
              "    <tr>\n",
              "      <th>51</th>\n",
              "      <td>6.4</td>\n",
              "      <td>1.5</td>\n",
              "      <td>1.0</td>\n",
              "    </tr>\n",
              "    <tr>\n",
              "      <th>73</th>\n",
              "      <td>6.1</td>\n",
              "      <td>1.2</td>\n",
              "      <td>1.0</td>\n",
              "    </tr>\n",
              "    <tr>\n",
              "      <th>54</th>\n",
              "      <td>6.5</td>\n",
              "      <td>1.5</td>\n",
              "      <td>1.0</td>\n",
              "    </tr>\n",
              "    <tr>\n",
              "      <th>63</th>\n",
              "      <td>6.1</td>\n",
              "      <td>1.4</td>\n",
              "      <td>1.0</td>\n",
              "    </tr>\n",
              "    <tr>\n",
              "      <th>77</th>\n",
              "      <td>6.7</td>\n",
              "      <td>1.7</td>\n",
              "      <td>1.0</td>\n",
              "    </tr>\n",
              "    <tr>\n",
              "      <th>126</th>\n",
              "      <td>6.2</td>\n",
              "      <td>1.8</td>\n",
              "      <td>2.0</td>\n",
              "    </tr>\n",
              "    <tr>\n",
              "      <th>66</th>\n",
              "      <td>5.6</td>\n",
              "      <td>1.5</td>\n",
              "      <td>1.0</td>\n",
              "    </tr>\n",
              "  </tbody>\n",
              "</table>\n",
              "</div>"
            ],
            "text/plain": [
              "       x    y  class\n",
              "114  5.8  2.4    2.0\n",
              "62   6.0  1.0    1.0\n",
              "33   5.5  0.2    0.0\n",
              "107  7.3  1.8    2.0\n",
              "7    5.0  0.2    0.0\n",
              "100  6.3  2.5    2.0\n",
              "40   5.0  0.3    0.0\n",
              "86   6.7  1.5    1.0\n",
              "76   6.8  1.4    1.0\n",
              "71   6.1  1.3    1.0\n",
              "134  6.1  1.4    2.0\n",
              "51   6.4  1.5    1.0\n",
              "73   6.1  1.2    1.0\n",
              "54   6.5  1.5    1.0\n",
              "63   6.1  1.4    1.0\n",
              "77   6.7  1.7    1.0\n",
              "126  6.2  1.8    2.0\n",
              "66   5.6  1.5    1.0"
            ]
          },
          "metadata": {
            "tags": []
          },
          "execution_count": 517
        }
      ]
    },
    {
      "cell_type": "code",
      "metadata": {
        "id": "tVxMPyqjW5V5",
        "colab_type": "code",
        "colab": {}
      },
      "source": [
        "l = GNB()\n",
        "l.fit(new_dataset_train[['x','y']], new_dataset_train['class'])\n",
        "x_min, x_max = df['x'].values.min() - .8, df['x'].max() + .8\n",
        "y_min, y_max = df['y'].min() - .8, df['y'].max() + .8\n",
        "h = 0.1  # step size in the mesh\n",
        "xx, yy = np.meshgrid(np.arange(x_min, x_max, h), np.arange(y_min, y_max, h))\n",
        "Z = l.predict(np.c_[xx.ravel(), yy.ravel()])\n",
        "\n",
        "# Put the result into a color plot\n",
        "Z = Z.reshape(xx.shape)"
      ],
      "execution_count": 0,
      "outputs": []
    },
    {
      "cell_type": "code",
      "metadata": {
        "id": "hTfUhDLnW5V9",
        "colab_type": "code",
        "colab": {},
        "outputId": "e4b21b19-6392-436b-d489-a49ff92391ff"
      },
      "source": [
        "plt.scatter(df['x'], df['y'], c= df['class'], alpha=0.4, cmap=plt.cm.Paired, edgecolors='g', s=50 )\n",
        "plt.scatter(new_dataset_train['x'], new_dataset_train['y'], c= new_dataset_train['class'], \n",
        "            edgecolors='k', s=300, cmap=plt.cm.Paired )\n",
        "plt.pcolormesh(xx, yy, Z, cmap=plt.cm.Paired, alpha=0.2)"
      ],
      "execution_count": 0,
      "outputs": [
        {
          "output_type": "execute_result",
          "data": {
            "text/plain": [
              "<matplotlib.collections.QuadMesh at 0x7f4b34c98a90>"
            ]
          },
          "metadata": {
            "tags": []
          },
          "execution_count": 524
        },
        {
          "output_type": "display_data",
          "data": {
            "image/png": "[encoded data removed]",
            "text/plain": [
              "<matplotlib.figure.Figure at 0x7f4b339d3470>"
            ]
          },
          "metadata": {
            "tags": [],
            "needs_background": "light"
          }
        }
      ]
    },
    {
      "cell_type": "markdown",
      "metadata": {
        "id": "OjvhCVUUW5WA",
        "colab_type": "text"
      },
      "source": [
        "<br>\n",
        "\n",
        "---\n",
        "\n",
        ">**(ii)** Compare the accuracy of the above active learning strategy with random sampling where we query a\n",
        "sample at random from the pool set. Repeat this experiment over 5 different random seeds and make\n",
        "a plot with x-axis showing the number of queries, y-axis shows the accuracy on the test set. There are\n",
        "two lines to show - Naive Bayes with least confidence estimation, and a line showing mean and standard\n",
        "deviation for the random estimate.\n",
        "\n",
        "---\n"
      ]
    },
    {
      "cell_type": "code",
      "metadata": {
        "scrolled": true,
        "id": "pM9-oAIvW5WC",
        "colab_type": "code",
        "colab": {},
        "outputId": "1b78459c-b48d-4a60-a65f-7da30e34de7d"
      },
      "source": [
        "from matplotlib.pyplot import figure\n",
        "figure(num=None, figsize=(8, 4), dpi=80, facecolor='w', edgecolor='k')\n",
        "acc_new=[]\n",
        "X_train, X_test, y_train, y_test = train_test_split(X, y, test_size=0.90, random_state=8)\n",
        "X_test, X_pool, y_test, y_pool = train_test_split(X_test, y_test, test_size=0.60, random_state=8)\n",
        "\n",
        "for i in range(15):\n",
        "    ele={}\n",
        "    k1=0\n",
        "    np.random.seed(np.random.randint(5))\n",
        "    active_learning(X_pool,X_train,y_train)\n",
        "    key=np.random.randint(81)\n",
        "    row=X_pool.iloc[key-1]\n",
        "    X_pool=X_pool.drop(X_pool.index[key-1])\n",
        "    X_train=X_train.append(row)\n",
        "    y_train.loc[len(y_train)+1000]=y_pool[y_pool.index[key-1]]\n",
        "    y_pool=y_pool.drop(y_pool.index[key-1])\n",
        "    y_pred_new=prediction(X_test,X_train,y_train)\n",
        "    acc=metrics.accuracy_score(y_pred_new,y_test)*100\n",
        "    acc_new.append(acc)\n",
        "    #print(\"ITR :\",i+1,\",  Accuracy : \",acc)\n",
        "plt.plot(np.arange(0,15),acc_prev)\n",
        "plt.plot(np.arange(0,15),acc_new)\n",
        "plt.ylabel(\"ACCURACY\")\n",
        "plt.xlabel(\"NO OF QUERIES\")\n",
        "plt.title(\"The accuracy on the test set\")\n",
        "plt.legend(['With least confidence estimation','With random estimation'],loc='lower right')"
      ],
      "execution_count": 0,
      "outputs": [
        {
          "output_type": "execute_result",
          "data": {
            "text/plain": [
              "<matplotlib.legend.Legend at 0x7fdb7078dc18>"
            ]
          },
          "metadata": {
            "tags": []
          },
          "execution_count": 36
        },
        {
          "output_type": "display_data",
          "data": {
            "image/png": "[encoded data removed]",
            "text/plain": [
              "<matplotlib.figure.Figure at 0x7fdb70834780>"
            ]
          },
          "metadata": {
            "tags": []
          }
        }
      ]
    },
    {
      "cell_type": "markdown",
      "metadata": {
        "id": "TYp9e6xYW5WG",
        "colab_type": "text"
      },
      "source": [
        "**References:**\n",
        "\n",
        "[1]. https://colab.research.google.com/github/nipunbatra/nipunbatra.github.io/blob/master/blog/2019/active-learning-motivation.ipynb#scrollTo=r2n_fiWaXIjc"
      ]
    }
  ]
}